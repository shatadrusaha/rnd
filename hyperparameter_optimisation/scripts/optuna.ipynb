{
 "cells": [
  {
   "cell_type": "markdown",
   "metadata": {},
   "source": [
    "#### Import the required libraries"
   ]
  },
  {
   "cell_type": "code",
   "execution_count": 1,
   "metadata": {},
   "outputs": [],
   "source": [
    "import seaborn as sns\n",
    "import pandas as pd\n",
    "from sklearn.model_selection import train_test_split, cross_val_score\n",
    "from sklearn.ensemble import RandomForestRegressor\n",
    "from sklearn.metrics import mean_absolute_error, mean_squared_error, r2_score\n",
    "import optuna\n",
    "import matplotlib.pyplot as plt"
   ]
  },
  {
   "cell_type": "markdown",
   "metadata": {},
   "source": [
    "#### Get the data"
   ]
  },
  {
   "cell_type": "code",
   "execution_count": 2,
   "metadata": {},
   "outputs": [
    {
     "data": {
      "text/html": [
       "<div>\n",
       "<style scoped>\n",
       "    .dataframe tbody tr th:only-of-type {\n",
       "        vertical-align: middle;\n",
       "    }\n",
       "\n",
       "    .dataframe tbody tr th {\n",
       "        vertical-align: top;\n",
       "    }\n",
       "\n",
       "    .dataframe thead th {\n",
       "        text-align: right;\n",
       "    }\n",
       "</style>\n",
       "<table border=\"1\" class=\"dataframe\">\n",
       "  <thead>\n",
       "    <tr style=\"text-align: right;\">\n",
       "      <th></th>\n",
       "      <th>Year</th>\n",
       "      <th>Country</th>\n",
       "      <th>Spending_USD</th>\n",
       "      <th>Life_Expectancy</th>\n",
       "    </tr>\n",
       "  </thead>\n",
       "  <tbody>\n",
       "    <tr>\n",
       "      <th>0</th>\n",
       "      <td>1970</td>\n",
       "      <td>Germany</td>\n",
       "      <td>252.311</td>\n",
       "      <td>70.6</td>\n",
       "    </tr>\n",
       "    <tr>\n",
       "      <th>1</th>\n",
       "      <td>1970</td>\n",
       "      <td>France</td>\n",
       "      <td>192.143</td>\n",
       "      <td>72.2</td>\n",
       "    </tr>\n",
       "    <tr>\n",
       "      <th>2</th>\n",
       "      <td>1970</td>\n",
       "      <td>Great Britain</td>\n",
       "      <td>123.993</td>\n",
       "      <td>71.9</td>\n",
       "    </tr>\n",
       "    <tr>\n",
       "      <th>3</th>\n",
       "      <td>1970</td>\n",
       "      <td>Japan</td>\n",
       "      <td>150.437</td>\n",
       "      <td>72.0</td>\n",
       "    </tr>\n",
       "    <tr>\n",
       "      <th>4</th>\n",
       "      <td>1970</td>\n",
       "      <td>USA</td>\n",
       "      <td>326.961</td>\n",
       "      <td>70.9</td>\n",
       "    </tr>\n",
       "  </tbody>\n",
       "</table>\n",
       "</div>"
      ],
      "text/plain": [
       "   Year        Country  Spending_USD  Life_Expectancy\n",
       "0  1970        Germany       252.311             70.6\n",
       "1  1970         France       192.143             72.2\n",
       "2  1970  Great Britain       123.993             71.9\n",
       "3  1970          Japan       150.437             72.0\n",
       "4  1970            USA       326.961             70.9"
      ]
     },
     "execution_count": 2,
     "metadata": {},
     "output_type": "execute_result"
    }
   ],
   "source": [
    "# Load the dataset.\n",
    "df = sns.load_dataset(name='healthexp')\n",
    "\n",
    "df.head()"
   ]
  },
  {
   "cell_type": "code",
   "execution_count": 3,
   "metadata": {},
   "outputs": [
    {
     "data": {
      "text/html": [
       "<div>\n",
       "<style scoped>\n",
       "    .dataframe tbody tr th:only-of-type {\n",
       "        vertical-align: middle;\n",
       "    }\n",
       "\n",
       "    .dataframe tbody tr th {\n",
       "        vertical-align: top;\n",
       "    }\n",
       "\n",
       "    .dataframe thead th {\n",
       "        text-align: right;\n",
       "    }\n",
       "</style>\n",
       "<table border=\"1\" class=\"dataframe\">\n",
       "  <thead>\n",
       "    <tr style=\"text-align: right;\">\n",
       "      <th></th>\n",
       "      <th>Year</th>\n",
       "      <th>Spending_USD</th>\n",
       "      <th>Life_Expectancy</th>\n",
       "      <th>Country_Canada</th>\n",
       "      <th>Country_France</th>\n",
       "      <th>Country_Germany</th>\n",
       "      <th>Country_Great Britain</th>\n",
       "      <th>Country_Japan</th>\n",
       "      <th>Country_USA</th>\n",
       "    </tr>\n",
       "  </thead>\n",
       "  <tbody>\n",
       "    <tr>\n",
       "      <th>0</th>\n",
       "      <td>1970</td>\n",
       "      <td>252.311</td>\n",
       "      <td>70.6</td>\n",
       "      <td>False</td>\n",
       "      <td>False</td>\n",
       "      <td>True</td>\n",
       "      <td>False</td>\n",
       "      <td>False</td>\n",
       "      <td>False</td>\n",
       "    </tr>\n",
       "    <tr>\n",
       "      <th>1</th>\n",
       "      <td>1970</td>\n",
       "      <td>192.143</td>\n",
       "      <td>72.2</td>\n",
       "      <td>False</td>\n",
       "      <td>True</td>\n",
       "      <td>False</td>\n",
       "      <td>False</td>\n",
       "      <td>False</td>\n",
       "      <td>False</td>\n",
       "    </tr>\n",
       "    <tr>\n",
       "      <th>2</th>\n",
       "      <td>1970</td>\n",
       "      <td>123.993</td>\n",
       "      <td>71.9</td>\n",
       "      <td>False</td>\n",
       "      <td>False</td>\n",
       "      <td>False</td>\n",
       "      <td>True</td>\n",
       "      <td>False</td>\n",
       "      <td>False</td>\n",
       "    </tr>\n",
       "    <tr>\n",
       "      <th>3</th>\n",
       "      <td>1970</td>\n",
       "      <td>150.437</td>\n",
       "      <td>72.0</td>\n",
       "      <td>False</td>\n",
       "      <td>False</td>\n",
       "      <td>False</td>\n",
       "      <td>False</td>\n",
       "      <td>True</td>\n",
       "      <td>False</td>\n",
       "    </tr>\n",
       "    <tr>\n",
       "      <th>4</th>\n",
       "      <td>1970</td>\n",
       "      <td>326.961</td>\n",
       "      <td>70.9</td>\n",
       "      <td>False</td>\n",
       "      <td>False</td>\n",
       "      <td>False</td>\n",
       "      <td>False</td>\n",
       "      <td>False</td>\n",
       "      <td>True</td>\n",
       "    </tr>\n",
       "  </tbody>\n",
       "</table>\n",
       "</div>"
      ],
      "text/plain": [
       "   Year  Spending_USD  Life_Expectancy  Country_Canada  Country_France  \\\n",
       "0  1970       252.311             70.6           False           False   \n",
       "1  1970       192.143             72.2           False            True   \n",
       "2  1970       123.993             71.9           False           False   \n",
       "3  1970       150.437             72.0           False           False   \n",
       "4  1970       326.961             70.9           False           False   \n",
       "\n",
       "   Country_Germany  Country_Great Britain  Country_Japan  Country_USA  \n",
       "0             True                  False          False        False  \n",
       "1            False                  False          False        False  \n",
       "2            False                   True          False        False  \n",
       "3            False                  False           True        False  \n",
       "4            False                  False          False         True  "
      ]
     },
     "execution_count": 3,
     "metadata": {},
     "output_type": "execute_result"
    }
   ],
   "source": [
    "# Get the dummies for the data.\n",
    "df_model = pd.get_dummies(data=df)\n",
    "\n",
    "df_model.head()"
   ]
  },
  {
   "cell_type": "code",
   "execution_count": 4,
   "metadata": {},
   "outputs": [
    {
     "data": {
      "text/html": [
       "<div>\n",
       "<style scoped>\n",
       "    .dataframe tbody tr th:only-of-type {\n",
       "        vertical-align: middle;\n",
       "    }\n",
       "\n",
       "    .dataframe tbody tr th {\n",
       "        vertical-align: top;\n",
       "    }\n",
       "\n",
       "    .dataframe thead th {\n",
       "        text-align: right;\n",
       "    }\n",
       "</style>\n",
       "<table border=\"1\" class=\"dataframe\">\n",
       "  <thead>\n",
       "    <tr style=\"text-align: right;\">\n",
       "      <th></th>\n",
       "      <th>Year</th>\n",
       "      <th>Spending_USD</th>\n",
       "      <th>Country_Canada</th>\n",
       "      <th>Country_France</th>\n",
       "      <th>Country_Germany</th>\n",
       "      <th>Country_Great Britain</th>\n",
       "      <th>Country_Japan</th>\n",
       "      <th>Country_USA</th>\n",
       "    </tr>\n",
       "  </thead>\n",
       "  <tbody>\n",
       "    <tr>\n",
       "      <th>204</th>\n",
       "      <td>2009</td>\n",
       "      <td>3880.842</td>\n",
       "      <td>False</td>\n",
       "      <td>True</td>\n",
       "      <td>False</td>\n",
       "      <td>False</td>\n",
       "      <td>False</td>\n",
       "      <td>False</td>\n",
       "    </tr>\n",
       "    <tr>\n",
       "      <th>116</th>\n",
       "      <td>1994</td>\n",
       "      <td>1420.271</td>\n",
       "      <td>False</td>\n",
       "      <td>False</td>\n",
       "      <td>False</td>\n",
       "      <td>False</td>\n",
       "      <td>True</td>\n",
       "      <td>False</td>\n",
       "    </tr>\n",
       "    <tr>\n",
       "      <th>164</th>\n",
       "      <td>2002</td>\n",
       "      <td>2065.133</td>\n",
       "      <td>False</td>\n",
       "      <td>False</td>\n",
       "      <td>False</td>\n",
       "      <td>False</td>\n",
       "      <td>True</td>\n",
       "      <td>False</td>\n",
       "    </tr>\n",
       "    <tr>\n",
       "      <th>171</th>\n",
       "      <td>2003</td>\n",
       "      <td>5726.538</td>\n",
       "      <td>False</td>\n",
       "      <td>False</td>\n",
       "      <td>False</td>\n",
       "      <td>False</td>\n",
       "      <td>False</td>\n",
       "      <td>True</td>\n",
       "    </tr>\n",
       "    <tr>\n",
       "      <th>261</th>\n",
       "      <td>2018</td>\n",
       "      <td>10451.386</td>\n",
       "      <td>False</td>\n",
       "      <td>False</td>\n",
       "      <td>False</td>\n",
       "      <td>False</td>\n",
       "      <td>False</td>\n",
       "      <td>True</td>\n",
       "    </tr>\n",
       "  </tbody>\n",
       "</table>\n",
       "</div>"
      ],
      "text/plain": [
       "     Year  Spending_USD  Country_Canada  Country_France  Country_Germany  \\\n",
       "204  2009      3880.842           False            True            False   \n",
       "116  1994      1420.271           False           False            False   \n",
       "164  2002      2065.133           False           False            False   \n",
       "171  2003      5726.538           False           False            False   \n",
       "261  2018     10451.386           False           False            False   \n",
       "\n",
       "     Country_Great Britain  Country_Japan  Country_USA  \n",
       "204                  False          False        False  \n",
       "116                  False           True        False  \n",
       "164                  False           True        False  \n",
       "171                  False          False         True  \n",
       "261                  False          False         True  "
      ]
     },
     "execution_count": 4,
     "metadata": {},
     "output_type": "execute_result"
    }
   ],
   "source": [
    "# Get the model and target data.\n",
    "X = df_model.drop(labels=['Life_Expectancy'], axis=1)\n",
    "y = df_model['Life_Expectancy']\n",
    "\n",
    "# Split the data into train and test.\n",
    "X_train, X_test, y_train, y_test = train_test_split(X, y, train_size=0.2, random_state=20240717)\n",
    "\n",
    "X_train.head()\n",
    "# X_test.head()\n",
    "# y_train.head()\n",
    "# y_test .head()"
   ]
  },
  {
   "cell_type": "markdown",
   "metadata": {},
   "source": [
    "#### Build the base model."
   ]
  },
  {
   "cell_type": "code",
   "execution_count": 5,
   "metadata": {},
   "outputs": [
    {
     "name": "stdout",
     "output_type": "stream",
     "text": [
      "mean_absolute_error : 0.7211863636363536\n",
      "mean_squared_error : 0.9606070863636212\n",
      "r2_score : 0.9136726372978682\n"
     ]
    }
   ],
   "source": [
    "# Define the model.\n",
    "rfr_base = RandomForestRegressor(random_state=20240717)\n",
    "\n",
    "# Fit the data to the model.\n",
    "rfr_base.fit(X=X_train, y=y_train)\n",
    "\n",
    "# Make predictions on the test data.\n",
    "y_pred = rfr_base.predict(X=X_test)\n",
    "\n",
    "# Get the metrics.\n",
    "mae = mean_absolute_error(y_true=y_test, y_pred=y_pred)\n",
    "mse = mean_squared_error(y_true=y_test, y_pred=y_pred)\n",
    "r2s = r2_score(y_true=y_test, y_pred=y_pred)\n",
    "\n",
    "print(f'mean_absolute_error : {mae}\\nmean_squared_error : {mse}\\nr2_score : {r2s}')"
   ]
  },
  {
   "cell_type": "markdown",
   "metadata": {},
   "source": [
    "#### Hypertune and build model with 'Optuna'."
   ]
  },
  {
   "cell_type": "code",
   "execution_count": 6,
   "metadata": {},
   "outputs": [],
   "source": [
    "# Define the 'objective' function.\n",
    "def objective(trial):\n",
    "    # Define the hyperparameter space.\n",
    "    n_estimators = trial.suggest_int(name='n_estimators', low=100, high=1000)\n",
    "    max_depth = trial.suggest_int(name='max_depth', low=10, high=50)\n",
    "    min_samples_split = trial.suggest_int(name='min_sample_split', low=2, high=32)\n",
    "    min_samples_leaf = trial.suggest_int(name='min_sample_leaf', low=1, high=32)\n",
    "\n",
    "    # Build the model.\n",
    "    rfr_optuna = RandomForestRegressor(n_estimators=n_estimators, \n",
    "                                       max_depth=max_depth,\n",
    "                                       min_samples_split=min_samples_split, \n",
    "                                       min_samples_leaf=min_samples_leaf#, random_state=20240717\n",
    "                                       )\n",
    "    \n",
    "    # Get cross-val score\n",
    "    score_crossval = cross_val_score(estimator=rfr_optuna,\n",
    "                                     X=X_train, y=y_train,\n",
    "                                     cv=5, scoring='neg_mean_squared_error', n_jobs=-1).mean()\n",
    "\n",
    "    return score_crossval \n",
    "    "
   ]
  },
  {
   "cell_type": "code",
   "execution_count": 10,
   "metadata": {},
   "outputs": [
    {
     "name": "stderr",
     "output_type": "stream",
     "text": [
      "[I 2024-06-18 20:05:22,644] A new study created in memory with name: no-name-237a29c8-72f7-4330-8d8b-3835b57bc226\n",
      "[I 2024-06-18 20:05:24,177] Trial 0 finished with value: -9.499977667792638 and parameters: {'n_estimators': 722, 'max_depth': 26, 'min_sample_split': 22, 'min_sample_leaf': 27}. Best is trial 0 with value: -9.499977667792638.\n",
      "[I 2024-06-18 20:05:25,165] Trial 1 finished with value: -2.111051299838278 and parameters: {'n_estimators': 409, 'max_depth': 34, 'min_sample_split': 11, 'min_sample_leaf': 6}. Best is trial 1 with value: -2.111051299838278.\n",
      "[I 2024-06-18 20:05:26,714] Trial 2 finished with value: -4.97057486261202 and parameters: {'n_estimators': 757, 'max_depth': 25, 'min_sample_split': 28, 'min_sample_leaf': 4}. Best is trial 1 with value: -2.111051299838278.\n",
      "[I 2024-06-18 20:05:28,769] Trial 3 finished with value: -9.433956695991252 and parameters: {'n_estimators': 958, 'max_depth': 36, 'min_sample_split': 13, 'min_sample_leaf': 27}. Best is trial 1 with value: -2.111051299838278.\n",
      "[I 2024-06-18 20:05:29,148] Trial 4 finished with value: -1.8739839909079374 and parameters: {'n_estimators': 176, 'max_depth': 20, 'min_sample_split': 5, 'min_sample_leaf': 4}. Best is trial 4 with value: -1.8739839909079374.\n",
      "[I 2024-06-18 20:05:30,875] Trial 5 finished with value: -5.2616705045482055 and parameters: {'n_estimators': 895, 'max_depth': 15, 'min_sample_split': 5, 'min_sample_leaf': 14}. Best is trial 4 with value: -1.8739839909079374.\n",
      "[I 2024-06-18 20:05:31,503] Trial 6 finished with value: -9.452191375850632 and parameters: {'n_estimators': 347, 'max_depth': 25, 'min_sample_split': 19, 'min_sample_leaf': 17}. Best is trial 4 with value: -1.8739839909079374.\n",
      "[I 2024-06-18 20:05:32,448] Trial 7 finished with value: -9.41071021606016 and parameters: {'n_estimators': 442, 'max_depth': 13, 'min_sample_split': 9, 'min_sample_leaf': 17}. Best is trial 4 with value: -1.8739839909079374.\n",
      "[I 2024-06-18 20:05:33,466] Trial 8 finished with value: -9.455625438043285 and parameters: {'n_estimators': 439, 'max_depth': 48, 'min_sample_split': 12, 'min_sample_leaf': 30}. Best is trial 4 with value: -1.8739839909079374.\n",
      "[I 2024-06-18 20:05:34,266] Trial 9 finished with value: -5.265939122180261 and parameters: {'n_estimators': 345, 'max_depth': 48, 'min_sample_split': 25, 'min_sample_leaf': 14}. Best is trial 4 with value: -1.8739839909079374.\n",
      "[I 2024-06-18 20:05:35,255] Trial 10 finished with value: -2.569917273683265 and parameters: {'n_estimators': 525, 'max_depth': 12, 'min_sample_split': 18, 'min_sample_leaf': 6}. Best is trial 4 with value: -1.8739839909079374.\n",
      "[I 2024-06-18 20:05:35,662] Trial 11 finished with value: -4.852066245345534 and parameters: {'n_estimators': 201, 'max_depth': 26, 'min_sample_split': 28, 'min_sample_leaf': 1}. Best is trial 4 with value: -1.8739839909079374.\n",
      "[I 2024-06-18 20:05:36,887] Trial 12 finished with value: -8.645897130273354 and parameters: {'n_estimators': 655, 'max_depth': 31, 'min_sample_split': 31, 'min_sample_leaf': 8}. Best is trial 4 with value: -1.8739839909079374.\n",
      "[I 2024-06-18 20:05:38,633] Trial 13 finished with value: -2.2020225911121245 and parameters: {'n_estimators': 943, 'max_depth': 16, 'min_sample_split': 12, 'min_sample_leaf': 7}. Best is trial 4 with value: -1.8739839909079374.\n",
      "[I 2024-06-18 20:05:39,308] Trial 14 finished with value: -2.1816738956224313 and parameters: {'n_estimators': 359, 'max_depth': 28, 'min_sample_split': 14, 'min_sample_leaf': 7}. Best is trial 4 with value: -1.8739839909079374.\n",
      "[I 2024-06-18 20:05:39,994] Trial 15 finished with value: -9.406872800949941 and parameters: {'n_estimators': 342, 'max_depth': 24, 'min_sample_split': 25, 'min_sample_leaf': 27}. Best is trial 4 with value: -1.8739839909079374.\n",
      "[I 2024-06-18 20:05:41,593] Trial 16 finished with value: -5.064661186827197 and parameters: {'n_estimators': 845, 'max_depth': 50, 'min_sample_split': 28, 'min_sample_leaf': 11}. Best is trial 4 with value: -1.8739839909079374.\n",
      "[I 2024-06-18 20:05:43,132] Trial 17 finished with value: -9.442805307963303 and parameters: {'n_estimators': 738, 'max_depth': 23, 'min_sample_split': 27, 'min_sample_leaf': 28}. Best is trial 4 with value: -1.8739839909079374.\n",
      "[I 2024-06-18 20:05:44,304] Trial 18 finished with value: -9.45480373024704 and parameters: {'n_estimators': 611, 'max_depth': 48, 'min_sample_split': 12, 'min_sample_leaf': 27}. Best is trial 4 with value: -1.8739839909079374.\n",
      "[I 2024-06-18 20:05:45,392] Trial 19 finished with value: -9.448145865978878 and parameters: {'n_estimators': 583, 'max_depth': 28, 'min_sample_split': 21, 'min_sample_leaf': 20}. Best is trial 4 with value: -1.8739839909079374.\n",
      "[I 2024-06-18 20:05:47,089] Trial 20 finished with value: -9.44763638406998 and parameters: {'n_estimators': 922, 'max_depth': 28, 'min_sample_split': 19, 'min_sample_leaf': 25}. Best is trial 4 with value: -1.8739839909079374.\n",
      "[I 2024-06-18 20:05:47,795] Trial 21 finished with value: -9.446676963061611 and parameters: {'n_estimators': 367, 'max_depth': 35, 'min_sample_split': 15, 'min_sample_leaf': 25}. Best is trial 4 with value: -1.8739839909079374.\n",
      "[I 2024-06-18 20:05:48,820] Trial 22 finished with value: -2.8637930002220657 and parameters: {'n_estimators': 502, 'max_depth': 45, 'min_sample_split': 22, 'min_sample_leaf': 2}. Best is trial 4 with value: -1.8739839909079374.\n",
      "[I 2024-06-18 20:05:49,861] Trial 23 finished with value: -9.433789509074241 and parameters: {'n_estimators': 554, 'max_depth': 20, 'min_sample_split': 2, 'min_sample_leaf': 17}. Best is trial 4 with value: -1.8739839909079374.\n",
      "[I 2024-06-18 20:05:50,876] Trial 24 finished with value: -9.460776519366869 and parameters: {'n_estimators': 513, 'max_depth': 45, 'min_sample_split': 13, 'min_sample_leaf': 29}. Best is trial 4 with value: -1.8739839909079374.\n",
      "[I 2024-06-18 20:05:51,882] Trial 25 finished with value: -9.480702222717431 and parameters: {'n_estimators': 544, 'max_depth': 48, 'min_sample_split': 27, 'min_sample_leaf': 25}. Best is trial 4 with value: -1.8739839909079374.\n",
      "[I 2024-06-18 20:05:53,299] Trial 26 finished with value: -3.0653023415168437 and parameters: {'n_estimators': 755, 'max_depth': 16, 'min_sample_split': 25, 'min_sample_leaf': 3}. Best is trial 4 with value: -1.8739839909079374.\n",
      "[I 2024-06-18 20:05:54,913] Trial 27 finished with value: -2.7730475343823757 and parameters: {'n_estimators': 764, 'max_depth': 49, 'min_sample_split': 6, 'min_sample_leaf': 9}. Best is trial 4 with value: -1.8739839909079374.\n",
      "[I 2024-06-18 20:05:55,816] Trial 28 finished with value: -9.443529409169559 and parameters: {'n_estimators': 482, 'max_depth': 25, 'min_sample_split': 30, 'min_sample_leaf': 19}. Best is trial 4 with value: -1.8739839909079374.\n",
      "[I 2024-06-18 20:05:56,965] Trial 29 finished with value: -9.460046548107002 and parameters: {'n_estimators': 633, 'max_depth': 28, 'min_sample_split': 16, 'min_sample_leaf': 24}. Best is trial 4 with value: -1.8739839909079374.\n",
      "[I 2024-06-18 20:05:57,691] Trial 30 finished with value: -9.44560284945823 and parameters: {'n_estimators': 374, 'max_depth': 48, 'min_sample_split': 26, 'min_sample_leaf': 21}. Best is trial 4 with value: -1.8739839909079374.\n",
      "[I 2024-06-18 20:05:58,237] Trial 31 finished with value: -9.504315388475485 and parameters: {'n_estimators': 258, 'max_depth': 23, 'min_sample_split': 24, 'min_sample_leaf': 30}. Best is trial 4 with value: -1.8739839909079374.\n",
      "[I 2024-06-18 20:06:00,291] Trial 32 finished with value: -3.7609487805608013 and parameters: {'n_estimators': 971, 'max_depth': 31, 'min_sample_split': 21, 'min_sample_leaf': 13}. Best is trial 4 with value: -1.8739839909079374.\n",
      "[I 2024-06-18 20:06:01,272] Trial 33 finished with value: -9.442795590437736 and parameters: {'n_estimators': 497, 'max_depth': 46, 'min_sample_split': 2, 'min_sample_leaf': 28}. Best is trial 4 with value: -1.8739839909079374.\n",
      "[I 2024-06-18 20:06:02,033] Trial 34 finished with value: -2.2079800385295285 and parameters: {'n_estimators': 379, 'max_depth': 41, 'min_sample_split': 2, 'min_sample_leaf': 7}. Best is trial 4 with value: -1.8739839909079374.\n",
      "[I 2024-06-18 20:06:02,566] Trial 35 finished with value: -9.509489980088173 and parameters: {'n_estimators': 272, 'max_depth': 39, 'min_sample_split': 21, 'min_sample_leaf': 18}. Best is trial 4 with value: -1.8739839909079374.\n",
      "[I 2024-06-18 20:06:03,134] Trial 36 finished with value: -7.828178238963737 and parameters: {'n_estimators': 300, 'max_depth': 41, 'min_sample_split': 2, 'min_sample_leaf': 15}. Best is trial 4 with value: -1.8739839909079374.\n",
      "[I 2024-06-18 20:06:04,176] Trial 37 finished with value: -9.437473983317325 and parameters: {'n_estimators': 537, 'max_depth': 48, 'min_sample_split': 24, 'min_sample_leaf': 18}. Best is trial 4 with value: -1.8739839909079374.\n",
      "[I 2024-06-18 20:06:05,384] Trial 38 finished with value: -9.464014007679706 and parameters: {'n_estimators': 642, 'max_depth': 15, 'min_sample_split': 15, 'min_sample_leaf': 22}. Best is trial 4 with value: -1.8739839909079374.\n",
      "[I 2024-06-18 20:06:05,905] Trial 39 finished with value: -5.15434438474342 and parameters: {'n_estimators': 233, 'max_depth': 25, 'min_sample_split': 24, 'min_sample_leaf': 14}. Best is trial 4 with value: -1.8739839909079374.\n",
      "[I 2024-06-18 20:06:06,173] Trial 40 finished with value: -2.0932477058853527 and parameters: {'n_estimators': 100, 'max_depth': 49, 'min_sample_split': 11, 'min_sample_leaf': 4}. Best is trial 4 with value: -1.8739839909079374.\n",
      "[I 2024-06-18 20:06:08,396] Trial 41 finished with value: -2.431827756297029 and parameters: {'n_estimators': 877, 'max_depth': 10, 'min_sample_split': 16, 'min_sample_leaf': 8}. Best is trial 4 with value: -1.8739839909079374.\n",
      "[I 2024-06-18 20:06:09,109] Trial 42 finished with value: -7.931069515868418 and parameters: {'n_estimators': 294, 'max_depth': 50, 'min_sample_split': 16, 'min_sample_leaf': 15}. Best is trial 4 with value: -1.8739839909079374.\n",
      "[I 2024-06-18 20:06:09,487] Trial 43 finished with value: -9.461018631900922 and parameters: {'n_estimators': 167, 'max_depth': 28, 'min_sample_split': 7, 'min_sample_leaf': 18}. Best is trial 4 with value: -1.8739839909079374.\n",
      "[I 2024-06-18 20:06:10,027] Trial 44 finished with value: -3.286057065819152 and parameters: {'n_estimators': 270, 'max_depth': 50, 'min_sample_split': 26, 'min_sample_leaf': 8}. Best is trial 4 with value: -1.8739839909079374.\n",
      "[I 2024-06-18 20:06:11,109] Trial 45 finished with value: -7.84524965480212 and parameters: {'n_estimators': 540, 'max_depth': 24, 'min_sample_split': 26, 'min_sample_leaf': 15}. Best is trial 4 with value: -1.8739839909079374.\n",
      "[I 2024-06-18 20:06:13,003] Trial 46 finished with value: -2.1102538081031534 and parameters: {'n_estimators': 972, 'max_depth': 42, 'min_sample_split': 7, 'min_sample_leaf': 6}. Best is trial 4 with value: -1.8739839909079374.\n",
      "[I 2024-06-18 20:06:13,397] Trial 47 finished with value: -9.129934351313329 and parameters: {'n_estimators': 214, 'max_depth': 41, 'min_sample_split': 5, 'min_sample_leaf': 16}. Best is trial 4 with value: -1.8739839909079374.\n",
      "[I 2024-06-18 20:06:14,656] Trial 48 finished with value: -9.43571687475227 and parameters: {'n_estimators': 659, 'max_depth': 15, 'min_sample_split': 29, 'min_sample_leaf': 25}. Best is trial 4 with value: -1.8739839909079374.\n",
      "[I 2024-06-18 20:06:15,003] Trial 49 finished with value: -2.0320871671425436 and parameters: {'n_estimators': 170, 'max_depth': 48, 'min_sample_split': 13, 'min_sample_leaf': 3}. Best is trial 4 with value: -1.8739839909079374.\n",
      "[I 2024-06-18 20:06:15,934] Trial 50 finished with value: -2.22684474395854 and parameters: {'n_estimators': 481, 'max_depth': 25, 'min_sample_split': 9, 'min_sample_leaf': 7}. Best is trial 4 with value: -1.8739839909079374.\n",
      "[I 2024-06-18 20:06:17,076] Trial 51 finished with value: -5.245320469043994 and parameters: {'n_estimators': 534, 'max_depth': 23, 'min_sample_split': 5, 'min_sample_leaf': 14}. Best is trial 4 with value: -1.8739839909079374.\n",
      "[I 2024-06-18 20:06:18,983] Trial 52 finished with value: -9.449185795160128 and parameters: {'n_estimators': 950, 'max_depth': 49, 'min_sample_split': 3, 'min_sample_leaf': 24}. Best is trial 4 with value: -1.8739839909079374.\n",
      "[I 2024-06-18 20:06:20,338] Trial 53 finished with value: -9.447841079999193 and parameters: {'n_estimators': 685, 'max_depth': 44, 'min_sample_split': 10, 'min_sample_leaf': 19}. Best is trial 4 with value: -1.8739839909079374.\n",
      "[I 2024-06-18 20:06:21,771] Trial 54 finished with value: -3.944318854254541 and parameters: {'n_estimators': 656, 'max_depth': 18, 'min_sample_split': 27, 'min_sample_leaf': 8}. Best is trial 4 with value: -1.8739839909079374.\n",
      "[I 2024-06-18 20:06:23,203] Trial 55 finished with value: -9.44958724651127 and parameters: {'n_estimators': 631, 'max_depth': 10, 'min_sample_split': 6, 'min_sample_leaf': 21}. Best is trial 4 with value: -1.8739839909079374.\n",
      "[I 2024-06-18 20:06:24,104] Trial 56 finished with value: -9.454484614406109 and parameters: {'n_estimators': 366, 'max_depth': 38, 'min_sample_split': 13, 'min_sample_leaf': 29}. Best is trial 4 with value: -1.8739839909079374.\n",
      "[I 2024-06-18 20:06:25,665] Trial 57 finished with value: -9.47892322449214 and parameters: {'n_estimators': 674, 'max_depth': 13, 'min_sample_split': 3, 'min_sample_leaf': 32}. Best is trial 4 with value: -1.8739839909079374.\n",
      "[I 2024-06-18 20:06:25,932] Trial 58 finished with value: -3.0920861028535866 and parameters: {'n_estimators': 103, 'max_depth': 27, 'min_sample_split': 4, 'min_sample_leaf': 11}. Best is trial 4 with value: -1.8739839909079374.\n",
      "[I 2024-06-18 20:06:27,325] Trial 59 finished with value: -9.446162513175043 and parameters: {'n_estimators': 638, 'max_depth': 22, 'min_sample_split': 26, 'min_sample_leaf': 27}. Best is trial 4 with value: -1.8739839909079374.\n",
      "[I 2024-06-18 20:06:29,074] Trial 60 finished with value: -6.307351159511652 and parameters: {'n_estimators': 789, 'max_depth': 25, 'min_sample_split': 29, 'min_sample_leaf': 7}. Best is trial 4 with value: -1.8739839909079374.\n",
      "[I 2024-06-18 20:06:31,274] Trial 61 finished with value: -1.9870765458130486 and parameters: {'n_estimators': 941, 'max_depth': 12, 'min_sample_split': 9, 'min_sample_leaf': 4}. Best is trial 4 with value: -1.8739839909079374.\n",
      "[I 2024-06-18 20:06:33,056] Trial 62 finished with value: -3.13831577528899 and parameters: {'n_estimators': 769, 'max_depth': 42, 'min_sample_split': 8, 'min_sample_leaf': 11}. Best is trial 4 with value: -1.8739839909079374.\n",
      "[I 2024-06-18 20:06:34,872] Trial 63 finished with value: -2.882284006496927 and parameters: {'n_estimators': 816, 'max_depth': 45, 'min_sample_split': 22, 'min_sample_leaf': 4}. Best is trial 4 with value: -1.8739839909079374.\n",
      "[I 2024-06-18 20:06:36,453] Trial 64 finished with value: -2.209919705867743 and parameters: {'n_estimators': 816, 'max_depth': 27, 'min_sample_split': 14, 'min_sample_leaf': 7}. Best is trial 4 with value: -1.8739839909079374.\n",
      "[I 2024-06-18 20:06:37,290] Trial 65 finished with value: -3.355220948875831 and parameters: {'n_estimators': 470, 'max_depth': 47, 'min_sample_split': 11, 'min_sample_leaf': 12}. Best is trial 4 with value: -1.8739839909079374.\n",
      "[I 2024-06-18 20:06:39,104] Trial 66 finished with value: -1.4871245056629312 and parameters: {'n_estimators': 923, 'max_depth': 48, 'min_sample_split': 5, 'min_sample_leaf': 2}. Best is trial 66 with value: -1.4871245056629312.\n",
      "[I 2024-06-18 20:06:40,718] Trial 67 finished with value: -9.440529976711337 and parameters: {'n_estimators': 670, 'max_depth': 36, 'min_sample_split': 6, 'min_sample_leaf': 25}. Best is trial 66 with value: -1.4871245056629312.\n",
      "[I 2024-06-18 20:06:42,479] Trial 68 finished with value: -2.7660038298189122 and parameters: {'n_estimators': 874, 'max_depth': 13, 'min_sample_split': 6, 'min_sample_leaf': 9}. Best is trial 66 with value: -1.4871245056629312.\n",
      "[I 2024-06-18 20:06:44,620] Trial 69 finished with value: -7.74599275753565 and parameters: {'n_estimators': 950, 'max_depth': 37, 'min_sample_split': 18, 'min_sample_leaf': 15}. Best is trial 66 with value: -1.4871245056629312.\n",
      "[I 2024-06-18 20:06:46,356] Trial 70 finished with value: -9.176805005463422 and parameters: {'n_estimators': 832, 'max_depth': 44, 'min_sample_split': 14, 'min_sample_leaf': 16}. Best is trial 66 with value: -1.4871245056629312.\n",
      "[I 2024-06-18 20:06:47,495] Trial 71 finished with value: -2.7352036300726104 and parameters: {'n_estimators': 619, 'max_depth': 20, 'min_sample_split': 19, 'min_sample_leaf': 6}. Best is trial 66 with value: -1.4871245056629312.\n",
      "[I 2024-06-18 20:06:48,068] Trial 72 finished with value: -9.441081235235856 and parameters: {'n_estimators': 300, 'max_depth': 42, 'min_sample_split': 32, 'min_sample_leaf': 24}. Best is trial 66 with value: -1.4871245056629312.\n",
      "[I 2024-06-18 20:06:48,598] Trial 73 finished with value: -2.1122787837203463 and parameters: {'n_estimators': 264, 'max_depth': 35, 'min_sample_split': 14, 'min_sample_leaf': 3}. Best is trial 66 with value: -1.4871245056629312.\n",
      "[I 2024-06-18 20:06:49,437] Trial 74 finished with value: -2.7694773725663766 and parameters: {'n_estimators': 291, 'max_depth': 22, 'min_sample_split': 10, 'min_sample_leaf': 9}. Best is trial 66 with value: -1.4871245056629312.\n",
      "[I 2024-06-18 20:06:51,272] Trial 75 finished with value: -9.449840001746367 and parameters: {'n_estimators': 809, 'max_depth': 36, 'min_sample_split': 9, 'min_sample_leaf': 19}. Best is trial 66 with value: -1.4871245056629312.\n",
      "[I 2024-06-18 20:06:52,047] Trial 76 finished with value: -2.7701428380586854 and parameters: {'n_estimators': 356, 'max_depth': 33, 'min_sample_split': 14, 'min_sample_leaf': 9}. Best is trial 66 with value: -1.4871245056629312.\n",
      "[I 2024-06-18 20:06:53,046] Trial 77 finished with value: -2.922594599918793 and parameters: {'n_estimators': 148, 'max_depth': 16, 'min_sample_split': 23, 'min_sample_leaf': 6}. Best is trial 66 with value: -1.4871245056629312.\n",
      "[I 2024-06-18 20:06:53,741] Trial 78 finished with value: -1.8796931649153041 and parameters: {'n_estimators': 195, 'max_depth': 31, 'min_sample_split': 6, 'min_sample_leaf': 4}. Best is trial 66 with value: -1.4871245056629312.\n",
      "[I 2024-06-18 20:06:55,937] Trial 79 finished with value: -9.416613375614272 and parameters: {'n_estimators': 870, 'max_depth': 44, 'min_sample_split': 29, 'min_sample_leaf': 25}. Best is trial 66 with value: -1.4871245056629312.\n",
      "[I 2024-06-18 20:06:56,914] Trial 80 finished with value: -9.494410529231917 and parameters: {'n_estimators': 399, 'max_depth': 34, 'min_sample_split': 6, 'min_sample_leaf': 29}. Best is trial 66 with value: -1.4871245056629312.\n",
      "[I 2024-06-18 20:06:58,825] Trial 81 finished with value: -3.3205344976309092 and parameters: {'n_estimators': 862, 'max_depth': 19, 'min_sample_split': 26, 'min_sample_leaf': 3}. Best is trial 66 with value: -1.4871245056629312.\n",
      "[I 2024-06-18 20:06:59,269] Trial 82 finished with value: -9.458922962177597 and parameters: {'n_estimators': 209, 'max_depth': 39, 'min_sample_split': 20, 'min_sample_leaf': 19}. Best is trial 66 with value: -1.4871245056629312.\n",
      "[I 2024-06-18 20:06:59,917] Trial 83 finished with value: -2.1058535420539575 and parameters: {'n_estimators': 345, 'max_depth': 16, 'min_sample_split': 10, 'min_sample_leaf': 6}. Best is trial 66 with value: -1.4871245056629312.\n",
      "[I 2024-06-18 20:07:00,592] Trial 84 finished with value: -9.464567350211444 and parameters: {'n_estimators': 384, 'max_depth': 11, 'min_sample_split': 28, 'min_sample_leaf': 23}. Best is trial 66 with value: -1.4871245056629312.\n",
      "[I 2024-06-18 20:07:01,462] Trial 85 finished with value: -5.188570972335706 and parameters: {'n_estimators': 491, 'max_depth': 17, 'min_sample_split': 12, 'min_sample_leaf': 14}. Best is trial 66 with value: -1.4871245056629312.\n",
      "[I 2024-06-18 20:07:01,793] Trial 86 finished with value: -9.47066990409903 and parameters: {'n_estimators': 163, 'max_depth': 48, 'min_sample_split': 4, 'min_sample_leaf': 22}. Best is trial 66 with value: -1.4871245056629312.\n",
      "[I 2024-06-18 20:07:03,009] Trial 87 finished with value: -7.831503617860525 and parameters: {'n_estimators': 714, 'max_depth': 44, 'min_sample_split': 14, 'min_sample_leaf': 15}. Best is trial 66 with value: -1.4871245056629312.\n",
      "[I 2024-06-18 20:07:04,554] Trial 88 finished with value: -5.094329863865975 and parameters: {'n_estimators': 935, 'max_depth': 33, 'min_sample_split': 28, 'min_sample_leaf': 6}. Best is trial 66 with value: -1.4871245056629312.\n",
      "[I 2024-06-18 20:07:04,903] Trial 89 finished with value: -2.9673489126902868 and parameters: {'n_estimators': 192, 'max_depth': 14, 'min_sample_split': 24, 'min_sample_leaf': 3}. Best is trial 66 with value: -1.4871245056629312.\n",
      "[I 2024-06-18 20:07:05,997] Trial 90 finished with value: -2.94348746907817 and parameters: {'n_estimators': 681, 'max_depth': 47, 'min_sample_split': 22, 'min_sample_leaf': 9}. Best is trial 66 with value: -1.4871245056629312.\n",
      "[I 2024-06-18 20:07:07,317] Trial 91 finished with value: -9.426692694730072 and parameters: {'n_estimators': 766, 'max_depth': 33, 'min_sample_split': 3, 'min_sample_leaf': 17}. Best is trial 66 with value: -1.4871245056629312.\n",
      "[I 2024-06-18 20:07:07,856] Trial 92 finished with value: -9.432176940822185 and parameters: {'n_estimators': 309, 'max_depth': 38, 'min_sample_split': 25, 'min_sample_leaf': 25}. Best is trial 66 with value: -1.4871245056629312.\n",
      "[I 2024-06-18 20:07:08,820] Trial 93 finished with value: -9.435967475185802 and parameters: {'n_estimators': 597, 'max_depth': 19, 'min_sample_split': 24, 'min_sample_leaf': 26}. Best is trial 66 with value: -1.4871245056629312.\n",
      "[I 2024-06-18 20:07:09,564] Trial 94 finished with value: -9.44235579025651 and parameters: {'n_estimators': 455, 'max_depth': 35, 'min_sample_split': 29, 'min_sample_leaf': 31}. Best is trial 66 with value: -1.4871245056629312.\n",
      "[I 2024-06-18 20:07:10,689] Trial 95 finished with value: -9.444166185560102 and parameters: {'n_estimators': 612, 'max_depth': 29, 'min_sample_split': 22, 'min_sample_leaf': 31}. Best is trial 66 with value: -1.4871245056629312.\n",
      "[I 2024-06-18 20:07:11,907] Trial 96 finished with value: -2.8149364554156824 and parameters: {'n_estimators': 662, 'max_depth': 36, 'min_sample_split': 20, 'min_sample_leaf': 7}. Best is trial 66 with value: -1.4871245056629312.\n",
      "[I 2024-06-18 20:07:13,394] Trial 97 finished with value: -2.7450499536525585 and parameters: {'n_estimators': 877, 'max_depth': 45, 'min_sample_split': 13, 'min_sample_leaf': 9}. Best is trial 66 with value: -1.4871245056629312.\n",
      "[I 2024-06-18 20:07:13,710] Trial 98 finished with value: -2.7370157274473805 and parameters: {'n_estimators': 148, 'max_depth': 34, 'min_sample_split': 19, 'min_sample_leaf': 7}. Best is trial 66 with value: -1.4871245056629312.\n",
      "[I 2024-06-18 20:07:14,134] Trial 99 finished with value: -2.2322391230891614 and parameters: {'n_estimators': 223, 'max_depth': 42, 'min_sample_split': 8, 'min_sample_leaf': 7}. Best is trial 66 with value: -1.4871245056629312.\n"
     ]
    }
   ],
   "source": [
    "# Create study for the above 'objective'\n",
    "study = optuna.create_study(sampler=optuna.samplers.RandomSampler(seed=20240717),\n",
    "                            direction='maximize')\n",
    "\n",
    "study.optimize(func=objective, n_trials=100)"
   ]
  },
  {
   "cell_type": "code",
   "execution_count": 18,
   "metadata": {},
   "outputs": [
    {
     "data": {
      "text/plain": [
       "{'n_estimators': 923,\n",
       " 'max_depth': 48,\n",
       " 'min_sample_split': 5,\n",
       " 'min_sample_leaf': 2}"
      ]
     },
     "execution_count": 18,
     "metadata": {},
     "output_type": "execute_result"
    }
   ],
   "source": [
    "study.best_params"
   ]
  },
  {
   "cell_type": "code",
   "execution_count": 14,
   "metadata": {},
   "outputs": [
    {
     "data": {
      "application/vnd.plotly.v1+json": {
       "config": {
        "plotlyServerURL": "https://plot.ly"
       },
       "data": [
        {
         "mode": "markers",
         "name": "Objective Value",
         "type": "scatter",
         "x": [
          0,
          1,
          2,
          3,
          4,
          5,
          6,
          7,
          8,
          9,
          10,
          11,
          12,
          13,
          14,
          15,
          16,
          17,
          18,
          19,
          20,
          21,
          22,
          23,
          24,
          25,
          26,
          27,
          28,
          29,
          30,
          31,
          32,
          33,
          34,
          35,
          36,
          37,
          38,
          39,
          40,
          41,
          42,
          43,
          44,
          45,
          46,
          47,
          48,
          49,
          50,
          51,
          52,
          53,
          54,
          55,
          56,
          57,
          58,
          59,
          60,
          61,
          62,
          63,
          64,
          65,
          66,
          67,
          68,
          69,
          70,
          71,
          72,
          73,
          74,
          75,
          76,
          77,
          78,
          79,
          80,
          81,
          82,
          83,
          84,
          85,
          86,
          87,
          88,
          89,
          90,
          91,
          92,
          93,
          94,
          95,
          96,
          97,
          98,
          99
         ],
         "y": [
          -9.499977667792638,
          -2.111051299838278,
          -4.97057486261202,
          -9.433956695991252,
          -1.8739839909079374,
          -5.2616705045482055,
          -9.452191375850632,
          -9.41071021606016,
          -9.455625438043285,
          -5.265939122180261,
          -2.569917273683265,
          -4.852066245345534,
          -8.645897130273354,
          -2.2020225911121245,
          -2.1816738956224313,
          -9.406872800949941,
          -5.064661186827197,
          -9.442805307963303,
          -9.45480373024704,
          -9.448145865978878,
          -9.44763638406998,
          -9.446676963061611,
          -2.8637930002220657,
          -9.433789509074241,
          -9.460776519366869,
          -9.480702222717431,
          -3.0653023415168437,
          -2.7730475343823757,
          -9.443529409169559,
          -9.460046548107002,
          -9.44560284945823,
          -9.504315388475485,
          -3.7609487805608013,
          -9.442795590437736,
          -2.2079800385295285,
          -9.509489980088173,
          -7.828178238963737,
          -9.437473983317325,
          -9.464014007679706,
          -5.15434438474342,
          -2.0932477058853527,
          -2.431827756297029,
          -7.931069515868418,
          -9.461018631900922,
          -3.286057065819152,
          -7.84524965480212,
          -2.1102538081031534,
          -9.129934351313329,
          -9.43571687475227,
          -2.0320871671425436,
          -2.22684474395854,
          -5.245320469043994,
          -9.449185795160128,
          -9.447841079999193,
          -3.944318854254541,
          -9.44958724651127,
          -9.454484614406109,
          -9.47892322449214,
          -3.0920861028535866,
          -9.446162513175043,
          -6.307351159511652,
          -1.9870765458130486,
          -3.13831577528899,
          -2.882284006496927,
          -2.209919705867743,
          -3.355220948875831,
          -1.4871245056629312,
          -9.440529976711337,
          -2.7660038298189122,
          -7.74599275753565,
          -9.176805005463422,
          -2.7352036300726104,
          -9.441081235235856,
          -2.1122787837203463,
          -2.7694773725663766,
          -9.449840001746367,
          -2.7701428380586854,
          -2.922594599918793,
          -1.8796931649153041,
          -9.416613375614272,
          -9.494410529231917,
          -3.3205344976309092,
          -9.458922962177597,
          -2.1058535420539575,
          -9.464567350211444,
          -5.188570972335706,
          -9.47066990409903,
          -7.831503617860525,
          -5.094329863865975,
          -2.9673489126902868,
          -2.94348746907817,
          -9.426692694730072,
          -9.432176940822185,
          -9.435967475185802,
          -9.44235579025651,
          -9.444166185560102,
          -2.8149364554156824,
          -2.7450499536525585,
          -2.7370157274473805,
          -2.2322391230891614
         ]
        },
        {
         "mode": "lines",
         "name": "Best Value",
         "type": "scatter",
         "x": [
          0,
          1,
          2,
          3,
          4,
          5,
          6,
          7,
          8,
          9,
          10,
          11,
          12,
          13,
          14,
          15,
          16,
          17,
          18,
          19,
          20,
          21,
          22,
          23,
          24,
          25,
          26,
          27,
          28,
          29,
          30,
          31,
          32,
          33,
          34,
          35,
          36,
          37,
          38,
          39,
          40,
          41,
          42,
          43,
          44,
          45,
          46,
          47,
          48,
          49,
          50,
          51,
          52,
          53,
          54,
          55,
          56,
          57,
          58,
          59,
          60,
          61,
          62,
          63,
          64,
          65,
          66,
          67,
          68,
          69,
          70,
          71,
          72,
          73,
          74,
          75,
          76,
          77,
          78,
          79,
          80,
          81,
          82,
          83,
          84,
          85,
          86,
          87,
          88,
          89,
          90,
          91,
          92,
          93,
          94,
          95,
          96,
          97,
          98,
          99
         ],
         "y": [
          -9.499977667792638,
          -2.111051299838278,
          -2.111051299838278,
          -2.111051299838278,
          -1.8739839909079374,
          -1.8739839909079374,
          -1.8739839909079374,
          -1.8739839909079374,
          -1.8739839909079374,
          -1.8739839909079374,
          -1.8739839909079374,
          -1.8739839909079374,
          -1.8739839909079374,
          -1.8739839909079374,
          -1.8739839909079374,
          -1.8739839909079374,
          -1.8739839909079374,
          -1.8739839909079374,
          -1.8739839909079374,
          -1.8739839909079374,
          -1.8739839909079374,
          -1.8739839909079374,
          -1.8739839909079374,
          -1.8739839909079374,
          -1.8739839909079374,
          -1.8739839909079374,
          -1.8739839909079374,
          -1.8739839909079374,
          -1.8739839909079374,
          -1.8739839909079374,
          -1.8739839909079374,
          -1.8739839909079374,
          -1.8739839909079374,
          -1.8739839909079374,
          -1.8739839909079374,
          -1.8739839909079374,
          -1.8739839909079374,
          -1.8739839909079374,
          -1.8739839909079374,
          -1.8739839909079374,
          -1.8739839909079374,
          -1.8739839909079374,
          -1.8739839909079374,
          -1.8739839909079374,
          -1.8739839909079374,
          -1.8739839909079374,
          -1.8739839909079374,
          -1.8739839909079374,
          -1.8739839909079374,
          -1.8739839909079374,
          -1.8739839909079374,
          -1.8739839909079374,
          -1.8739839909079374,
          -1.8739839909079374,
          -1.8739839909079374,
          -1.8739839909079374,
          -1.8739839909079374,
          -1.8739839909079374,
          -1.8739839909079374,
          -1.8739839909079374,
          -1.8739839909079374,
          -1.8739839909079374,
          -1.8739839909079374,
          -1.8739839909079374,
          -1.8739839909079374,
          -1.8739839909079374,
          -1.4871245056629312,
          -1.4871245056629312,
          -1.4871245056629312,
          -1.4871245056629312,
          -1.4871245056629312,
          -1.4871245056629312,
          -1.4871245056629312,
          -1.4871245056629312,
          -1.4871245056629312,
          -1.4871245056629312,
          -1.4871245056629312,
          -1.4871245056629312,
          -1.4871245056629312,
          -1.4871245056629312,
          -1.4871245056629312,
          -1.4871245056629312,
          -1.4871245056629312,
          -1.4871245056629312,
          -1.4871245056629312,
          -1.4871245056629312,
          -1.4871245056629312,
          -1.4871245056629312,
          -1.4871245056629312,
          -1.4871245056629312,
          -1.4871245056629312,
          -1.4871245056629312,
          -1.4871245056629312,
          -1.4871245056629312,
          -1.4871245056629312,
          -1.4871245056629312,
          -1.4871245056629312,
          -1.4871245056629312,
          -1.4871245056629312,
          -1.4871245056629312
         ]
        },
        {
         "marker": {
          "color": "#cccccc"
         },
         "mode": "markers",
         "name": "Infeasible Trial",
         "showlegend": false,
         "type": "scatter",
         "x": [],
         "y": []
        }
       ],
       "layout": {
        "template": {
         "data": {
          "bar": [
           {
            "error_x": {
             "color": "#2a3f5f"
            },
            "error_y": {
             "color": "#2a3f5f"
            },
            "marker": {
             "line": {
              "color": "#E5ECF6",
              "width": 0.5
             },
             "pattern": {
              "fillmode": "overlay",
              "size": 10,
              "solidity": 0.2
             }
            },
            "type": "bar"
           }
          ],
          "barpolar": [
           {
            "marker": {
             "line": {
              "color": "#E5ECF6",
              "width": 0.5
             },
             "pattern": {
              "fillmode": "overlay",
              "size": 10,
              "solidity": 0.2
             }
            },
            "type": "barpolar"
           }
          ],
          "carpet": [
           {
            "aaxis": {
             "endlinecolor": "#2a3f5f",
             "gridcolor": "white",
             "linecolor": "white",
             "minorgridcolor": "white",
             "startlinecolor": "#2a3f5f"
            },
            "baxis": {
             "endlinecolor": "#2a3f5f",
             "gridcolor": "white",
             "linecolor": "white",
             "minorgridcolor": "white",
             "startlinecolor": "#2a3f5f"
            },
            "type": "carpet"
           }
          ],
          "choropleth": [
           {
            "colorbar": {
             "outlinewidth": 0,
             "ticks": ""
            },
            "type": "choropleth"
           }
          ],
          "contour": [
           {
            "colorbar": {
             "outlinewidth": 0,
             "ticks": ""
            },
            "colorscale": [
             [
              0,
              "#0d0887"
             ],
             [
              0.1111111111111111,
              "#46039f"
             ],
             [
              0.2222222222222222,
              "#7201a8"
             ],
             [
              0.3333333333333333,
              "#9c179e"
             ],
             [
              0.4444444444444444,
              "#bd3786"
             ],
             [
              0.5555555555555556,
              "#d8576b"
             ],
             [
              0.6666666666666666,
              "#ed7953"
             ],
             [
              0.7777777777777778,
              "#fb9f3a"
             ],
             [
              0.8888888888888888,
              "#fdca26"
             ],
             [
              1,
              "#f0f921"
             ]
            ],
            "type": "contour"
           }
          ],
          "contourcarpet": [
           {
            "colorbar": {
             "outlinewidth": 0,
             "ticks": ""
            },
            "type": "contourcarpet"
           }
          ],
          "heatmap": [
           {
            "colorbar": {
             "outlinewidth": 0,
             "ticks": ""
            },
            "colorscale": [
             [
              0,
              "#0d0887"
             ],
             [
              0.1111111111111111,
              "#46039f"
             ],
             [
              0.2222222222222222,
              "#7201a8"
             ],
             [
              0.3333333333333333,
              "#9c179e"
             ],
             [
              0.4444444444444444,
              "#bd3786"
             ],
             [
              0.5555555555555556,
              "#d8576b"
             ],
             [
              0.6666666666666666,
              "#ed7953"
             ],
             [
              0.7777777777777778,
              "#fb9f3a"
             ],
             [
              0.8888888888888888,
              "#fdca26"
             ],
             [
              1,
              "#f0f921"
             ]
            ],
            "type": "heatmap"
           }
          ],
          "heatmapgl": [
           {
            "colorbar": {
             "outlinewidth": 0,
             "ticks": ""
            },
            "colorscale": [
             [
              0,
              "#0d0887"
             ],
             [
              0.1111111111111111,
              "#46039f"
             ],
             [
              0.2222222222222222,
              "#7201a8"
             ],
             [
              0.3333333333333333,
              "#9c179e"
             ],
             [
              0.4444444444444444,
              "#bd3786"
             ],
             [
              0.5555555555555556,
              "#d8576b"
             ],
             [
              0.6666666666666666,
              "#ed7953"
             ],
             [
              0.7777777777777778,
              "#fb9f3a"
             ],
             [
              0.8888888888888888,
              "#fdca26"
             ],
             [
              1,
              "#f0f921"
             ]
            ],
            "type": "heatmapgl"
           }
          ],
          "histogram": [
           {
            "marker": {
             "pattern": {
              "fillmode": "overlay",
              "size": 10,
              "solidity": 0.2
             }
            },
            "type": "histogram"
           }
          ],
          "histogram2d": [
           {
            "colorbar": {
             "outlinewidth": 0,
             "ticks": ""
            },
            "colorscale": [
             [
              0,
              "#0d0887"
             ],
             [
              0.1111111111111111,
              "#46039f"
             ],
             [
              0.2222222222222222,
              "#7201a8"
             ],
             [
              0.3333333333333333,
              "#9c179e"
             ],
             [
              0.4444444444444444,
              "#bd3786"
             ],
             [
              0.5555555555555556,
              "#d8576b"
             ],
             [
              0.6666666666666666,
              "#ed7953"
             ],
             [
              0.7777777777777778,
              "#fb9f3a"
             ],
             [
              0.8888888888888888,
              "#fdca26"
             ],
             [
              1,
              "#f0f921"
             ]
            ],
            "type": "histogram2d"
           }
          ],
          "histogram2dcontour": [
           {
            "colorbar": {
             "outlinewidth": 0,
             "ticks": ""
            },
            "colorscale": [
             [
              0,
              "#0d0887"
             ],
             [
              0.1111111111111111,
              "#46039f"
             ],
             [
              0.2222222222222222,
              "#7201a8"
             ],
             [
              0.3333333333333333,
              "#9c179e"
             ],
             [
              0.4444444444444444,
              "#bd3786"
             ],
             [
              0.5555555555555556,
              "#d8576b"
             ],
             [
              0.6666666666666666,
              "#ed7953"
             ],
             [
              0.7777777777777778,
              "#fb9f3a"
             ],
             [
              0.8888888888888888,
              "#fdca26"
             ],
             [
              1,
              "#f0f921"
             ]
            ],
            "type": "histogram2dcontour"
           }
          ],
          "mesh3d": [
           {
            "colorbar": {
             "outlinewidth": 0,
             "ticks": ""
            },
            "type": "mesh3d"
           }
          ],
          "parcoords": [
           {
            "line": {
             "colorbar": {
              "outlinewidth": 0,
              "ticks": ""
             }
            },
            "type": "parcoords"
           }
          ],
          "pie": [
           {
            "automargin": true,
            "type": "pie"
           }
          ],
          "scatter": [
           {
            "fillpattern": {
             "fillmode": "overlay",
             "size": 10,
             "solidity": 0.2
            },
            "type": "scatter"
           }
          ],
          "scatter3d": [
           {
            "line": {
             "colorbar": {
              "outlinewidth": 0,
              "ticks": ""
             }
            },
            "marker": {
             "colorbar": {
              "outlinewidth": 0,
              "ticks": ""
             }
            },
            "type": "scatter3d"
           }
          ],
          "scattercarpet": [
           {
            "marker": {
             "colorbar": {
              "outlinewidth": 0,
              "ticks": ""
             }
            },
            "type": "scattercarpet"
           }
          ],
          "scattergeo": [
           {
            "marker": {
             "colorbar": {
              "outlinewidth": 0,
              "ticks": ""
             }
            },
            "type": "scattergeo"
           }
          ],
          "scattergl": [
           {
            "marker": {
             "colorbar": {
              "outlinewidth": 0,
              "ticks": ""
             }
            },
            "type": "scattergl"
           }
          ],
          "scattermapbox": [
           {
            "marker": {
             "colorbar": {
              "outlinewidth": 0,
              "ticks": ""
             }
            },
            "type": "scattermapbox"
           }
          ],
          "scatterpolar": [
           {
            "marker": {
             "colorbar": {
              "outlinewidth": 0,
              "ticks": ""
             }
            },
            "type": "scatterpolar"
           }
          ],
          "scatterpolargl": [
           {
            "marker": {
             "colorbar": {
              "outlinewidth": 0,
              "ticks": ""
             }
            },
            "type": "scatterpolargl"
           }
          ],
          "scatterternary": [
           {
            "marker": {
             "colorbar": {
              "outlinewidth": 0,
              "ticks": ""
             }
            },
            "type": "scatterternary"
           }
          ],
          "surface": [
           {
            "colorbar": {
             "outlinewidth": 0,
             "ticks": ""
            },
            "colorscale": [
             [
              0,
              "#0d0887"
             ],
             [
              0.1111111111111111,
              "#46039f"
             ],
             [
              0.2222222222222222,
              "#7201a8"
             ],
             [
              0.3333333333333333,
              "#9c179e"
             ],
             [
              0.4444444444444444,
              "#bd3786"
             ],
             [
              0.5555555555555556,
              "#d8576b"
             ],
             [
              0.6666666666666666,
              "#ed7953"
             ],
             [
              0.7777777777777778,
              "#fb9f3a"
             ],
             [
              0.8888888888888888,
              "#fdca26"
             ],
             [
              1,
              "#f0f921"
             ]
            ],
            "type": "surface"
           }
          ],
          "table": [
           {
            "cells": {
             "fill": {
              "color": "#EBF0F8"
             },
             "line": {
              "color": "white"
             }
            },
            "header": {
             "fill": {
              "color": "#C8D4E3"
             },
             "line": {
              "color": "white"
             }
            },
            "type": "table"
           }
          ]
         },
         "layout": {
          "annotationdefaults": {
           "arrowcolor": "#2a3f5f",
           "arrowhead": 0,
           "arrowwidth": 1
          },
          "autotypenumbers": "strict",
          "coloraxis": {
           "colorbar": {
            "outlinewidth": 0,
            "ticks": ""
           }
          },
          "colorscale": {
           "diverging": [
            [
             0,
             "#8e0152"
            ],
            [
             0.1,
             "#c51b7d"
            ],
            [
             0.2,
             "#de77ae"
            ],
            [
             0.3,
             "#f1b6da"
            ],
            [
             0.4,
             "#fde0ef"
            ],
            [
             0.5,
             "#f7f7f7"
            ],
            [
             0.6,
             "#e6f5d0"
            ],
            [
             0.7,
             "#b8e186"
            ],
            [
             0.8,
             "#7fbc41"
            ],
            [
             0.9,
             "#4d9221"
            ],
            [
             1,
             "#276419"
            ]
           ],
           "sequential": [
            [
             0,
             "#0d0887"
            ],
            [
             0.1111111111111111,
             "#46039f"
            ],
            [
             0.2222222222222222,
             "#7201a8"
            ],
            [
             0.3333333333333333,
             "#9c179e"
            ],
            [
             0.4444444444444444,
             "#bd3786"
            ],
            [
             0.5555555555555556,
             "#d8576b"
            ],
            [
             0.6666666666666666,
             "#ed7953"
            ],
            [
             0.7777777777777778,
             "#fb9f3a"
            ],
            [
             0.8888888888888888,
             "#fdca26"
            ],
            [
             1,
             "#f0f921"
            ]
           ],
           "sequentialminus": [
            [
             0,
             "#0d0887"
            ],
            [
             0.1111111111111111,
             "#46039f"
            ],
            [
             0.2222222222222222,
             "#7201a8"
            ],
            [
             0.3333333333333333,
             "#9c179e"
            ],
            [
             0.4444444444444444,
             "#bd3786"
            ],
            [
             0.5555555555555556,
             "#d8576b"
            ],
            [
             0.6666666666666666,
             "#ed7953"
            ],
            [
             0.7777777777777778,
             "#fb9f3a"
            ],
            [
             0.8888888888888888,
             "#fdca26"
            ],
            [
             1,
             "#f0f921"
            ]
           ]
          },
          "colorway": [
           "#636efa",
           "#EF553B",
           "#00cc96",
           "#ab63fa",
           "#FFA15A",
           "#19d3f3",
           "#FF6692",
           "#B6E880",
           "#FF97FF",
           "#FECB52"
          ],
          "font": {
           "color": "#2a3f5f"
          },
          "geo": {
           "bgcolor": "white",
           "lakecolor": "white",
           "landcolor": "#E5ECF6",
           "showlakes": true,
           "showland": true,
           "subunitcolor": "white"
          },
          "hoverlabel": {
           "align": "left"
          },
          "hovermode": "closest",
          "mapbox": {
           "style": "light"
          },
          "paper_bgcolor": "white",
          "plot_bgcolor": "#E5ECF6",
          "polar": {
           "angularaxis": {
            "gridcolor": "white",
            "linecolor": "white",
            "ticks": ""
           },
           "bgcolor": "#E5ECF6",
           "radialaxis": {
            "gridcolor": "white",
            "linecolor": "white",
            "ticks": ""
           }
          },
          "scene": {
           "xaxis": {
            "backgroundcolor": "#E5ECF6",
            "gridcolor": "white",
            "gridwidth": 2,
            "linecolor": "white",
            "showbackground": true,
            "ticks": "",
            "zerolinecolor": "white"
           },
           "yaxis": {
            "backgroundcolor": "#E5ECF6",
            "gridcolor": "white",
            "gridwidth": 2,
            "linecolor": "white",
            "showbackground": true,
            "ticks": "",
            "zerolinecolor": "white"
           },
           "zaxis": {
            "backgroundcolor": "#E5ECF6",
            "gridcolor": "white",
            "gridwidth": 2,
            "linecolor": "white",
            "showbackground": true,
            "ticks": "",
            "zerolinecolor": "white"
           }
          },
          "shapedefaults": {
           "line": {
            "color": "#2a3f5f"
           }
          },
          "ternary": {
           "aaxis": {
            "gridcolor": "white",
            "linecolor": "white",
            "ticks": ""
           },
           "baxis": {
            "gridcolor": "white",
            "linecolor": "white",
            "ticks": ""
           },
           "bgcolor": "#E5ECF6",
           "caxis": {
            "gridcolor": "white",
            "linecolor": "white",
            "ticks": ""
           }
          },
          "title": {
           "x": 0.05
          },
          "xaxis": {
           "automargin": true,
           "gridcolor": "white",
           "linecolor": "white",
           "ticks": "",
           "title": {
            "standoff": 15
           },
           "zerolinecolor": "white",
           "zerolinewidth": 2
          },
          "yaxis": {
           "automargin": true,
           "gridcolor": "white",
           "linecolor": "white",
           "ticks": "",
           "title": {
            "standoff": 15
           },
           "zerolinecolor": "white",
           "zerolinewidth": 2
          }
         }
        },
        "title": {
         "text": "Optimization History Plot"
        },
        "xaxis": {
         "title": {
          "text": "Trial"
         }
        },
        "yaxis": {
         "title": {
          "text": "Objective Value"
         }
        }
       }
      }
     },
     "metadata": {},
     "output_type": "display_data"
    }
   ],
   "source": [
    "# Do some plots.\n",
    "optuna.visualization.plot_optimization_history(study=study)"
   ]
  },
  {
   "cell_type": "code",
   "execution_count": 15,
   "metadata": {},
   "outputs": [
    {
     "data": {
      "application/vnd.plotly.v1+json": {
       "config": {
        "plotlyServerURL": "https://plot.ly"
       },
       "data": [
        {
         "dimensions": [
          {
           "label": "Objective Value",
           "range": [
            -9.509489980088173,
            -1.4871245056629312
           ],
           "values": [
            -9.499977667792638,
            -2.111051299838278,
            -4.97057486261202,
            -9.433956695991252,
            -1.8739839909079374,
            -5.2616705045482055,
            -9.452191375850632,
            -9.41071021606016,
            -9.455625438043285,
            -5.265939122180261,
            -2.569917273683265,
            -4.852066245345534,
            -8.645897130273354,
            -2.2020225911121245,
            -2.1816738956224313,
            -9.406872800949941,
            -5.064661186827197,
            -9.442805307963303,
            -9.45480373024704,
            -9.448145865978878,
            -9.44763638406998,
            -9.446676963061611,
            -2.8637930002220657,
            -9.433789509074241,
            -9.460776519366869,
            -9.480702222717431,
            -3.0653023415168437,
            -2.7730475343823757,
            -9.443529409169559,
            -9.460046548107002,
            -9.44560284945823,
            -9.504315388475485,
            -3.7609487805608013,
            -9.442795590437736,
            -2.2079800385295285,
            -9.509489980088173,
            -7.828178238963737,
            -9.437473983317325,
            -9.464014007679706,
            -5.15434438474342,
            -2.0932477058853527,
            -2.431827756297029,
            -7.931069515868418,
            -9.461018631900922,
            -3.286057065819152,
            -7.84524965480212,
            -2.1102538081031534,
            -9.129934351313329,
            -9.43571687475227,
            -2.0320871671425436,
            -2.22684474395854,
            -5.245320469043994,
            -9.449185795160128,
            -9.447841079999193,
            -3.944318854254541,
            -9.44958724651127,
            -9.454484614406109,
            -9.47892322449214,
            -3.0920861028535866,
            -9.446162513175043,
            -6.307351159511652,
            -1.9870765458130486,
            -3.13831577528899,
            -2.882284006496927,
            -2.209919705867743,
            -3.355220948875831,
            -1.4871245056629312,
            -9.440529976711337,
            -2.7660038298189122,
            -7.74599275753565,
            -9.176805005463422,
            -2.7352036300726104,
            -9.441081235235856,
            -2.1122787837203463,
            -2.7694773725663766,
            -9.449840001746367,
            -2.7701428380586854,
            -2.922594599918793,
            -1.8796931649153041,
            -9.416613375614272,
            -9.494410529231917,
            -3.3205344976309092,
            -9.458922962177597,
            -2.1058535420539575,
            -9.464567350211444,
            -5.188570972335706,
            -9.47066990409903,
            -7.831503617860525,
            -5.094329863865975,
            -2.9673489126902868,
            -2.94348746907817,
            -9.426692694730072,
            -9.432176940822185,
            -9.435967475185802,
            -9.44235579025651,
            -9.444166185560102,
            -2.8149364554156824,
            -2.7450499536525585,
            -2.7370157274473805,
            -2.2322391230891614
           ]
          },
          {
           "label": "max_depth",
           "range": [
            10,
            50
           ],
           "values": [
            26,
            34,
            25,
            36,
            20,
            15,
            25,
            13,
            48,
            48,
            12,
            26,
            31,
            16,
            28,
            24,
            50,
            23,
            48,
            28,
            28,
            35,
            45,
            20,
            45,
            48,
            16,
            49,
            25,
            28,
            48,
            23,
            31,
            46,
            41,
            39,
            41,
            48,
            15,
            25,
            49,
            10,
            50,
            28,
            50,
            24,
            42,
            41,
            15,
            48,
            25,
            23,
            49,
            44,
            18,
            10,
            38,
            13,
            27,
            22,
            25,
            12,
            42,
            45,
            27,
            47,
            48,
            36,
            13,
            37,
            44,
            20,
            42,
            35,
            22,
            36,
            33,
            16,
            31,
            44,
            34,
            19,
            39,
            16,
            11,
            17,
            48,
            44,
            33,
            14,
            47,
            33,
            38,
            19,
            35,
            29,
            36,
            45,
            34,
            42
           ]
          },
          {
           "label": "min_sample_leaf",
           "range": [
            1,
            32
           ],
           "values": [
            27,
            6,
            4,
            27,
            4,
            14,
            17,
            17,
            30,
            14,
            6,
            1,
            8,
            7,
            7,
            27,
            11,
            28,
            27,
            20,
            25,
            25,
            2,
            17,
            29,
            25,
            3,
            9,
            19,
            24,
            21,
            30,
            13,
            28,
            7,
            18,
            15,
            18,
            22,
            14,
            4,
            8,
            15,
            18,
            8,
            15,
            6,
            16,
            25,
            3,
            7,
            14,
            24,
            19,
            8,
            21,
            29,
            32,
            11,
            27,
            7,
            4,
            11,
            4,
            7,
            12,
            2,
            25,
            9,
            15,
            16,
            6,
            24,
            3,
            9,
            19,
            9,
            6,
            4,
            25,
            29,
            3,
            19,
            6,
            23,
            14,
            22,
            15,
            6,
            3,
            9,
            17,
            25,
            26,
            31,
            31,
            7,
            9,
            7,
            7
           ]
          },
          {
           "label": "min_sample_split",
           "range": [
            2,
            32
           ],
           "values": [
            22,
            11,
            28,
            13,
            5,
            5,
            19,
            9,
            12,
            25,
            18,
            28,
            31,
            12,
            14,
            25,
            28,
            27,
            12,
            21,
            19,
            15,
            22,
            2,
            13,
            27,
            25,
            6,
            30,
            16,
            26,
            24,
            21,
            2,
            2,
            21,
            2,
            24,
            15,
            24,
            11,
            16,
            16,
            7,
            26,
            26,
            7,
            5,
            29,
            13,
            9,
            5,
            3,
            10,
            27,
            6,
            13,
            3,
            4,
            26,
            29,
            9,
            8,
            22,
            14,
            11,
            5,
            6,
            6,
            18,
            14,
            19,
            32,
            14,
            10,
            9,
            14,
            23,
            6,
            29,
            6,
            26,
            20,
            10,
            28,
            12,
            4,
            14,
            28,
            24,
            22,
            3,
            25,
            24,
            29,
            22,
            20,
            13,
            19,
            8
           ]
          },
          {
           "label": "n_estimators",
           "range": [
            100,
            972
           ],
           "values": [
            722,
            409,
            757,
            958,
            176,
            895,
            347,
            442,
            439,
            345,
            525,
            201,
            655,
            943,
            359,
            342,
            845,
            738,
            611,
            583,
            922,
            367,
            502,
            554,
            513,
            544,
            755,
            764,
            482,
            633,
            374,
            258,
            971,
            497,
            379,
            272,
            300,
            537,
            642,
            233,
            100,
            877,
            294,
            167,
            270,
            540,
            972,
            214,
            659,
            170,
            481,
            534,
            950,
            685,
            656,
            631,
            366,
            674,
            103,
            638,
            789,
            941,
            769,
            816,
            816,
            470,
            923,
            670,
            874,
            950,
            832,
            619,
            300,
            264,
            291,
            809,
            356,
            148,
            195,
            870,
            399,
            862,
            209,
            345,
            384,
            491,
            163,
            714,
            935,
            192,
            681,
            766,
            309,
            597,
            455,
            612,
            662,
            877,
            148,
            223
           ]
          }
         ],
         "labelangle": 30,
         "labelside": "bottom",
         "line": {
          "color": [
           -9.499977667792638,
           -2.111051299838278,
           -4.97057486261202,
           -9.433956695991252,
           -1.8739839909079374,
           -5.2616705045482055,
           -9.452191375850632,
           -9.41071021606016,
           -9.455625438043285,
           -5.265939122180261,
           -2.569917273683265,
           -4.852066245345534,
           -8.645897130273354,
           -2.2020225911121245,
           -2.1816738956224313,
           -9.406872800949941,
           -5.064661186827197,
           -9.442805307963303,
           -9.45480373024704,
           -9.448145865978878,
           -9.44763638406998,
           -9.446676963061611,
           -2.8637930002220657,
           -9.433789509074241,
           -9.460776519366869,
           -9.480702222717431,
           -3.0653023415168437,
           -2.7730475343823757,
           -9.443529409169559,
           -9.460046548107002,
           -9.44560284945823,
           -9.504315388475485,
           -3.7609487805608013,
           -9.442795590437736,
           -2.2079800385295285,
           -9.509489980088173,
           -7.828178238963737,
           -9.437473983317325,
           -9.464014007679706,
           -5.15434438474342,
           -2.0932477058853527,
           -2.431827756297029,
           -7.931069515868418,
           -9.461018631900922,
           -3.286057065819152,
           -7.84524965480212,
           -2.1102538081031534,
           -9.129934351313329,
           -9.43571687475227,
           -2.0320871671425436,
           -2.22684474395854,
           -5.245320469043994,
           -9.449185795160128,
           -9.447841079999193,
           -3.944318854254541,
           -9.44958724651127,
           -9.454484614406109,
           -9.47892322449214,
           -3.0920861028535866,
           -9.446162513175043,
           -6.307351159511652,
           -1.9870765458130486,
           -3.13831577528899,
           -2.882284006496927,
           -2.209919705867743,
           -3.355220948875831,
           -1.4871245056629312,
           -9.440529976711337,
           -2.7660038298189122,
           -7.74599275753565,
           -9.176805005463422,
           -2.7352036300726104,
           -9.441081235235856,
           -2.1122787837203463,
           -2.7694773725663766,
           -9.449840001746367,
           -2.7701428380586854,
           -2.922594599918793,
           -1.8796931649153041,
           -9.416613375614272,
           -9.494410529231917,
           -3.3205344976309092,
           -9.458922962177597,
           -2.1058535420539575,
           -9.464567350211444,
           -5.188570972335706,
           -9.47066990409903,
           -7.831503617860525,
           -5.094329863865975,
           -2.9673489126902868,
           -2.94348746907817,
           -9.426692694730072,
           -9.432176940822185,
           -9.435967475185802,
           -9.44235579025651,
           -9.444166185560102,
           -2.8149364554156824,
           -2.7450499536525585,
           -2.7370157274473805,
           -2.2322391230891614
          ],
          "colorbar": {
           "title": {
            "text": "Objective Value"
           }
          },
          "colorscale": [
           [
            0,
            "rgb(247,251,255)"
           ],
           [
            0.125,
            "rgb(222,235,247)"
           ],
           [
            0.25,
            "rgb(198,219,239)"
           ],
           [
            0.375,
            "rgb(158,202,225)"
           ],
           [
            0.5,
            "rgb(107,174,214)"
           ],
           [
            0.625,
            "rgb(66,146,198)"
           ],
           [
            0.75,
            "rgb(33,113,181)"
           ],
           [
            0.875,
            "rgb(8,81,156)"
           ],
           [
            1,
            "rgb(8,48,107)"
           ]
          ],
          "reversescale": false,
          "showscale": true
         },
         "type": "parcoords"
        }
       ],
       "layout": {
        "template": {
         "data": {
          "bar": [
           {
            "error_x": {
             "color": "#2a3f5f"
            },
            "error_y": {
             "color": "#2a3f5f"
            },
            "marker": {
             "line": {
              "color": "#E5ECF6",
              "width": 0.5
             },
             "pattern": {
              "fillmode": "overlay",
              "size": 10,
              "solidity": 0.2
             }
            },
            "type": "bar"
           }
          ],
          "barpolar": [
           {
            "marker": {
             "line": {
              "color": "#E5ECF6",
              "width": 0.5
             },
             "pattern": {
              "fillmode": "overlay",
              "size": 10,
              "solidity": 0.2
             }
            },
            "type": "barpolar"
           }
          ],
          "carpet": [
           {
            "aaxis": {
             "endlinecolor": "#2a3f5f",
             "gridcolor": "white",
             "linecolor": "white",
             "minorgridcolor": "white",
             "startlinecolor": "#2a3f5f"
            },
            "baxis": {
             "endlinecolor": "#2a3f5f",
             "gridcolor": "white",
             "linecolor": "white",
             "minorgridcolor": "white",
             "startlinecolor": "#2a3f5f"
            },
            "type": "carpet"
           }
          ],
          "choropleth": [
           {
            "colorbar": {
             "outlinewidth": 0,
             "ticks": ""
            },
            "type": "choropleth"
           }
          ],
          "contour": [
           {
            "colorbar": {
             "outlinewidth": 0,
             "ticks": ""
            },
            "colorscale": [
             [
              0,
              "#0d0887"
             ],
             [
              0.1111111111111111,
              "#46039f"
             ],
             [
              0.2222222222222222,
              "#7201a8"
             ],
             [
              0.3333333333333333,
              "#9c179e"
             ],
             [
              0.4444444444444444,
              "#bd3786"
             ],
             [
              0.5555555555555556,
              "#d8576b"
             ],
             [
              0.6666666666666666,
              "#ed7953"
             ],
             [
              0.7777777777777778,
              "#fb9f3a"
             ],
             [
              0.8888888888888888,
              "#fdca26"
             ],
             [
              1,
              "#f0f921"
             ]
            ],
            "type": "contour"
           }
          ],
          "contourcarpet": [
           {
            "colorbar": {
             "outlinewidth": 0,
             "ticks": ""
            },
            "type": "contourcarpet"
           }
          ],
          "heatmap": [
           {
            "colorbar": {
             "outlinewidth": 0,
             "ticks": ""
            },
            "colorscale": [
             [
              0,
              "#0d0887"
             ],
             [
              0.1111111111111111,
              "#46039f"
             ],
             [
              0.2222222222222222,
              "#7201a8"
             ],
             [
              0.3333333333333333,
              "#9c179e"
             ],
             [
              0.4444444444444444,
              "#bd3786"
             ],
             [
              0.5555555555555556,
              "#d8576b"
             ],
             [
              0.6666666666666666,
              "#ed7953"
             ],
             [
              0.7777777777777778,
              "#fb9f3a"
             ],
             [
              0.8888888888888888,
              "#fdca26"
             ],
             [
              1,
              "#f0f921"
             ]
            ],
            "type": "heatmap"
           }
          ],
          "heatmapgl": [
           {
            "colorbar": {
             "outlinewidth": 0,
             "ticks": ""
            },
            "colorscale": [
             [
              0,
              "#0d0887"
             ],
             [
              0.1111111111111111,
              "#46039f"
             ],
             [
              0.2222222222222222,
              "#7201a8"
             ],
             [
              0.3333333333333333,
              "#9c179e"
             ],
             [
              0.4444444444444444,
              "#bd3786"
             ],
             [
              0.5555555555555556,
              "#d8576b"
             ],
             [
              0.6666666666666666,
              "#ed7953"
             ],
             [
              0.7777777777777778,
              "#fb9f3a"
             ],
             [
              0.8888888888888888,
              "#fdca26"
             ],
             [
              1,
              "#f0f921"
             ]
            ],
            "type": "heatmapgl"
           }
          ],
          "histogram": [
           {
            "marker": {
             "pattern": {
              "fillmode": "overlay",
              "size": 10,
              "solidity": 0.2
             }
            },
            "type": "histogram"
           }
          ],
          "histogram2d": [
           {
            "colorbar": {
             "outlinewidth": 0,
             "ticks": ""
            },
            "colorscale": [
             [
              0,
              "#0d0887"
             ],
             [
              0.1111111111111111,
              "#46039f"
             ],
             [
              0.2222222222222222,
              "#7201a8"
             ],
             [
              0.3333333333333333,
              "#9c179e"
             ],
             [
              0.4444444444444444,
              "#bd3786"
             ],
             [
              0.5555555555555556,
              "#d8576b"
             ],
             [
              0.6666666666666666,
              "#ed7953"
             ],
             [
              0.7777777777777778,
              "#fb9f3a"
             ],
             [
              0.8888888888888888,
              "#fdca26"
             ],
             [
              1,
              "#f0f921"
             ]
            ],
            "type": "histogram2d"
           }
          ],
          "histogram2dcontour": [
           {
            "colorbar": {
             "outlinewidth": 0,
             "ticks": ""
            },
            "colorscale": [
             [
              0,
              "#0d0887"
             ],
             [
              0.1111111111111111,
              "#46039f"
             ],
             [
              0.2222222222222222,
              "#7201a8"
             ],
             [
              0.3333333333333333,
              "#9c179e"
             ],
             [
              0.4444444444444444,
              "#bd3786"
             ],
             [
              0.5555555555555556,
              "#d8576b"
             ],
             [
              0.6666666666666666,
              "#ed7953"
             ],
             [
              0.7777777777777778,
              "#fb9f3a"
             ],
             [
              0.8888888888888888,
              "#fdca26"
             ],
             [
              1,
              "#f0f921"
             ]
            ],
            "type": "histogram2dcontour"
           }
          ],
          "mesh3d": [
           {
            "colorbar": {
             "outlinewidth": 0,
             "ticks": ""
            },
            "type": "mesh3d"
           }
          ],
          "parcoords": [
           {
            "line": {
             "colorbar": {
              "outlinewidth": 0,
              "ticks": ""
             }
            },
            "type": "parcoords"
           }
          ],
          "pie": [
           {
            "automargin": true,
            "type": "pie"
           }
          ],
          "scatter": [
           {
            "fillpattern": {
             "fillmode": "overlay",
             "size": 10,
             "solidity": 0.2
            },
            "type": "scatter"
           }
          ],
          "scatter3d": [
           {
            "line": {
             "colorbar": {
              "outlinewidth": 0,
              "ticks": ""
             }
            },
            "marker": {
             "colorbar": {
              "outlinewidth": 0,
              "ticks": ""
             }
            },
            "type": "scatter3d"
           }
          ],
          "scattercarpet": [
           {
            "marker": {
             "colorbar": {
              "outlinewidth": 0,
              "ticks": ""
             }
            },
            "type": "scattercarpet"
           }
          ],
          "scattergeo": [
           {
            "marker": {
             "colorbar": {
              "outlinewidth": 0,
              "ticks": ""
             }
            },
            "type": "scattergeo"
           }
          ],
          "scattergl": [
           {
            "marker": {
             "colorbar": {
              "outlinewidth": 0,
              "ticks": ""
             }
            },
            "type": "scattergl"
           }
          ],
          "scattermapbox": [
           {
            "marker": {
             "colorbar": {
              "outlinewidth": 0,
              "ticks": ""
             }
            },
            "type": "scattermapbox"
           }
          ],
          "scatterpolar": [
           {
            "marker": {
             "colorbar": {
              "outlinewidth": 0,
              "ticks": ""
             }
            },
            "type": "scatterpolar"
           }
          ],
          "scatterpolargl": [
           {
            "marker": {
             "colorbar": {
              "outlinewidth": 0,
              "ticks": ""
             }
            },
            "type": "scatterpolargl"
           }
          ],
          "scatterternary": [
           {
            "marker": {
             "colorbar": {
              "outlinewidth": 0,
              "ticks": ""
             }
            },
            "type": "scatterternary"
           }
          ],
          "surface": [
           {
            "colorbar": {
             "outlinewidth": 0,
             "ticks": ""
            },
            "colorscale": [
             [
              0,
              "#0d0887"
             ],
             [
              0.1111111111111111,
              "#46039f"
             ],
             [
              0.2222222222222222,
              "#7201a8"
             ],
             [
              0.3333333333333333,
              "#9c179e"
             ],
             [
              0.4444444444444444,
              "#bd3786"
             ],
             [
              0.5555555555555556,
              "#d8576b"
             ],
             [
              0.6666666666666666,
              "#ed7953"
             ],
             [
              0.7777777777777778,
              "#fb9f3a"
             ],
             [
              0.8888888888888888,
              "#fdca26"
             ],
             [
              1,
              "#f0f921"
             ]
            ],
            "type": "surface"
           }
          ],
          "table": [
           {
            "cells": {
             "fill": {
              "color": "#EBF0F8"
             },
             "line": {
              "color": "white"
             }
            },
            "header": {
             "fill": {
              "color": "#C8D4E3"
             },
             "line": {
              "color": "white"
             }
            },
            "type": "table"
           }
          ]
         },
         "layout": {
          "annotationdefaults": {
           "arrowcolor": "#2a3f5f",
           "arrowhead": 0,
           "arrowwidth": 1
          },
          "autotypenumbers": "strict",
          "coloraxis": {
           "colorbar": {
            "outlinewidth": 0,
            "ticks": ""
           }
          },
          "colorscale": {
           "diverging": [
            [
             0,
             "#8e0152"
            ],
            [
             0.1,
             "#c51b7d"
            ],
            [
             0.2,
             "#de77ae"
            ],
            [
             0.3,
             "#f1b6da"
            ],
            [
             0.4,
             "#fde0ef"
            ],
            [
             0.5,
             "#f7f7f7"
            ],
            [
             0.6,
             "#e6f5d0"
            ],
            [
             0.7,
             "#b8e186"
            ],
            [
             0.8,
             "#7fbc41"
            ],
            [
             0.9,
             "#4d9221"
            ],
            [
             1,
             "#276419"
            ]
           ],
           "sequential": [
            [
             0,
             "#0d0887"
            ],
            [
             0.1111111111111111,
             "#46039f"
            ],
            [
             0.2222222222222222,
             "#7201a8"
            ],
            [
             0.3333333333333333,
             "#9c179e"
            ],
            [
             0.4444444444444444,
             "#bd3786"
            ],
            [
             0.5555555555555556,
             "#d8576b"
            ],
            [
             0.6666666666666666,
             "#ed7953"
            ],
            [
             0.7777777777777778,
             "#fb9f3a"
            ],
            [
             0.8888888888888888,
             "#fdca26"
            ],
            [
             1,
             "#f0f921"
            ]
           ],
           "sequentialminus": [
            [
             0,
             "#0d0887"
            ],
            [
             0.1111111111111111,
             "#46039f"
            ],
            [
             0.2222222222222222,
             "#7201a8"
            ],
            [
             0.3333333333333333,
             "#9c179e"
            ],
            [
             0.4444444444444444,
             "#bd3786"
            ],
            [
             0.5555555555555556,
             "#d8576b"
            ],
            [
             0.6666666666666666,
             "#ed7953"
            ],
            [
             0.7777777777777778,
             "#fb9f3a"
            ],
            [
             0.8888888888888888,
             "#fdca26"
            ],
            [
             1,
             "#f0f921"
            ]
           ]
          },
          "colorway": [
           "#636efa",
           "#EF553B",
           "#00cc96",
           "#ab63fa",
           "#FFA15A",
           "#19d3f3",
           "#FF6692",
           "#B6E880",
           "#FF97FF",
           "#FECB52"
          ],
          "font": {
           "color": "#2a3f5f"
          },
          "geo": {
           "bgcolor": "white",
           "lakecolor": "white",
           "landcolor": "#E5ECF6",
           "showlakes": true,
           "showland": true,
           "subunitcolor": "white"
          },
          "hoverlabel": {
           "align": "left"
          },
          "hovermode": "closest",
          "mapbox": {
           "style": "light"
          },
          "paper_bgcolor": "white",
          "plot_bgcolor": "#E5ECF6",
          "polar": {
           "angularaxis": {
            "gridcolor": "white",
            "linecolor": "white",
            "ticks": ""
           },
           "bgcolor": "#E5ECF6",
           "radialaxis": {
            "gridcolor": "white",
            "linecolor": "white",
            "ticks": ""
           }
          },
          "scene": {
           "xaxis": {
            "backgroundcolor": "#E5ECF6",
            "gridcolor": "white",
            "gridwidth": 2,
            "linecolor": "white",
            "showbackground": true,
            "ticks": "",
            "zerolinecolor": "white"
           },
           "yaxis": {
            "backgroundcolor": "#E5ECF6",
            "gridcolor": "white",
            "gridwidth": 2,
            "linecolor": "white",
            "showbackground": true,
            "ticks": "",
            "zerolinecolor": "white"
           },
           "zaxis": {
            "backgroundcolor": "#E5ECF6",
            "gridcolor": "white",
            "gridwidth": 2,
            "linecolor": "white",
            "showbackground": true,
            "ticks": "",
            "zerolinecolor": "white"
           }
          },
          "shapedefaults": {
           "line": {
            "color": "#2a3f5f"
           }
          },
          "ternary": {
           "aaxis": {
            "gridcolor": "white",
            "linecolor": "white",
            "ticks": ""
           },
           "baxis": {
            "gridcolor": "white",
            "linecolor": "white",
            "ticks": ""
           },
           "bgcolor": "#E5ECF6",
           "caxis": {
            "gridcolor": "white",
            "linecolor": "white",
            "ticks": ""
           }
          },
          "title": {
           "x": 0.05
          },
          "xaxis": {
           "automargin": true,
           "gridcolor": "white",
           "linecolor": "white",
           "ticks": "",
           "title": {
            "standoff": 15
           },
           "zerolinecolor": "white",
           "zerolinewidth": 2
          },
          "yaxis": {
           "automargin": true,
           "gridcolor": "white",
           "linecolor": "white",
           "ticks": "",
           "title": {
            "standoff": 15
           },
           "zerolinecolor": "white",
           "zerolinewidth": 2
          }
         }
        },
        "title": {
         "text": "Parallel Coordinate Plot"
        }
       }
      }
     },
     "metadata": {},
     "output_type": "display_data"
    }
   ],
   "source": [
    "optuna.visualization.plot_parallel_coordinate(study=study)"
   ]
  },
  {
   "cell_type": "code",
   "execution_count": 16,
   "metadata": {},
   "outputs": [
    {
     "data": {
      "application/vnd.plotly.v1+json": {
       "config": {
        "plotlyServerURL": "https://plot.ly"
       },
       "data": [
        {
         "marker": {
          "color": [
           0,
           1,
           2,
           3,
           4,
           5,
           6,
           7,
           8,
           9,
           10,
           11,
           12,
           13,
           14,
           15,
           16,
           17,
           18,
           19,
           20,
           21,
           22,
           23,
           24,
           25,
           26,
           27,
           28,
           29,
           30,
           31,
           32,
           33,
           34,
           35,
           36,
           37,
           38,
           39,
           40,
           41,
           42,
           43,
           44,
           45,
           46,
           47,
           48,
           49,
           50,
           51,
           52,
           53,
           54,
           55,
           56,
           57,
           58,
           59,
           60,
           61,
           62,
           63,
           64,
           65,
           66,
           67,
           68,
           69,
           70,
           71,
           72,
           73,
           74,
           75,
           76,
           77,
           78,
           79,
           80,
           81,
           82,
           83,
           84,
           85,
           86,
           87,
           88,
           89,
           90,
           91,
           92,
           93,
           94,
           95,
           96,
           97,
           98,
           99
          ],
          "colorbar": {
           "title": {
            "text": "Trial"
           },
           "x": 1,
           "xpad": 40
          },
          "colorscale": [
           [
            0,
            "rgb(247,251,255)"
           ],
           [
            0.125,
            "rgb(222,235,247)"
           ],
           [
            0.25,
            "rgb(198,219,239)"
           ],
           [
            0.375,
            "rgb(158,202,225)"
           ],
           [
            0.5,
            "rgb(107,174,214)"
           ],
           [
            0.625,
            "rgb(66,146,198)"
           ],
           [
            0.75,
            "rgb(33,113,181)"
           ],
           [
            0.875,
            "rgb(8,81,156)"
           ],
           [
            1,
            "rgb(8,48,107)"
           ]
          ],
          "line": {
           "color": "Grey",
           "width": 0.5
          },
          "showscale": true
         },
         "mode": "markers",
         "name": "Feasible Trial",
         "showlegend": false,
         "type": "scatter",
         "x": [
          26,
          34,
          25,
          36,
          20,
          15,
          25,
          13,
          48,
          48,
          12,
          26,
          31,
          16,
          28,
          24,
          50,
          23,
          48,
          28,
          28,
          35,
          45,
          20,
          45,
          48,
          16,
          49,
          25,
          28,
          48,
          23,
          31,
          46,
          41,
          39,
          41,
          48,
          15,
          25,
          49,
          10,
          50,
          28,
          50,
          24,
          42,
          41,
          15,
          48,
          25,
          23,
          49,
          44,
          18,
          10,
          38,
          13,
          27,
          22,
          25,
          12,
          42,
          45,
          27,
          47,
          48,
          36,
          13,
          37,
          44,
          20,
          42,
          35,
          22,
          36,
          33,
          16,
          31,
          44,
          34,
          19,
          39,
          16,
          11,
          17,
          48,
          44,
          33,
          14,
          47,
          33,
          38,
          19,
          35,
          29,
          36,
          45,
          34,
          42
         ],
         "xaxis": "x",
         "y": [
          -9.499977667792638,
          -2.111051299838278,
          -4.97057486261202,
          -9.433956695991252,
          -1.8739839909079374,
          -5.2616705045482055,
          -9.452191375850632,
          -9.41071021606016,
          -9.455625438043285,
          -5.265939122180261,
          -2.569917273683265,
          -4.852066245345534,
          -8.645897130273354,
          -2.2020225911121245,
          -2.1816738956224313,
          -9.406872800949941,
          -5.064661186827197,
          -9.442805307963303,
          -9.45480373024704,
          -9.448145865978878,
          -9.44763638406998,
          -9.446676963061611,
          -2.8637930002220657,
          -9.433789509074241,
          -9.460776519366869,
          -9.480702222717431,
          -3.0653023415168437,
          -2.7730475343823757,
          -9.443529409169559,
          -9.460046548107002,
          -9.44560284945823,
          -9.504315388475485,
          -3.7609487805608013,
          -9.442795590437736,
          -2.2079800385295285,
          -9.509489980088173,
          -7.828178238963737,
          -9.437473983317325,
          -9.464014007679706,
          -5.15434438474342,
          -2.0932477058853527,
          -2.431827756297029,
          -7.931069515868418,
          -9.461018631900922,
          -3.286057065819152,
          -7.84524965480212,
          -2.1102538081031534,
          -9.129934351313329,
          -9.43571687475227,
          -2.0320871671425436,
          -2.22684474395854,
          -5.245320469043994,
          -9.449185795160128,
          -9.447841079999193,
          -3.944318854254541,
          -9.44958724651127,
          -9.454484614406109,
          -9.47892322449214,
          -3.0920861028535866,
          -9.446162513175043,
          -6.307351159511652,
          -1.9870765458130486,
          -3.13831577528899,
          -2.882284006496927,
          -2.209919705867743,
          -3.355220948875831,
          -1.4871245056629312,
          -9.440529976711337,
          -2.7660038298189122,
          -7.74599275753565,
          -9.176805005463422,
          -2.7352036300726104,
          -9.441081235235856,
          -2.1122787837203463,
          -2.7694773725663766,
          -9.449840001746367,
          -2.7701428380586854,
          -2.922594599918793,
          -1.8796931649153041,
          -9.416613375614272,
          -9.494410529231917,
          -3.3205344976309092,
          -9.458922962177597,
          -2.1058535420539575,
          -9.464567350211444,
          -5.188570972335706,
          -9.47066990409903,
          -7.831503617860525,
          -5.094329863865975,
          -2.9673489126902868,
          -2.94348746907817,
          -9.426692694730072,
          -9.432176940822185,
          -9.435967475185802,
          -9.44235579025651,
          -9.444166185560102,
          -2.8149364554156824,
          -2.7450499536525585,
          -2.7370157274473805,
          -2.2322391230891614
         ],
         "yaxis": "y"
        },
        {
         "marker": {
          "color": [
           0,
           1,
           2,
           3,
           4,
           5,
           6,
           7,
           8,
           9,
           10,
           11,
           12,
           13,
           14,
           15,
           16,
           17,
           18,
           19,
           20,
           21,
           22,
           23,
           24,
           25,
           26,
           27,
           28,
           29,
           30,
           31,
           32,
           33,
           34,
           35,
           36,
           37,
           38,
           39,
           40,
           41,
           42,
           43,
           44,
           45,
           46,
           47,
           48,
           49,
           50,
           51,
           52,
           53,
           54,
           55,
           56,
           57,
           58,
           59,
           60,
           61,
           62,
           63,
           64,
           65,
           66,
           67,
           68,
           69,
           70,
           71,
           72,
           73,
           74,
           75,
           76,
           77,
           78,
           79,
           80,
           81,
           82,
           83,
           84,
           85,
           86,
           87,
           88,
           89,
           90,
           91,
           92,
           93,
           94,
           95,
           96,
           97,
           98,
           99
          ],
          "colorbar": {
           "title": {
            "text": "Trial"
           },
           "x": 1,
           "xpad": 40
          },
          "colorscale": [
           [
            0,
            "rgb(247,251,255)"
           ],
           [
            0.125,
            "rgb(222,235,247)"
           ],
           [
            0.25,
            "rgb(198,219,239)"
           ],
           [
            0.375,
            "rgb(158,202,225)"
           ],
           [
            0.5,
            "rgb(107,174,214)"
           ],
           [
            0.625,
            "rgb(66,146,198)"
           ],
           [
            0.75,
            "rgb(33,113,181)"
           ],
           [
            0.875,
            "rgb(8,81,156)"
           ],
           [
            1,
            "rgb(8,48,107)"
           ]
          ],
          "line": {
           "color": "Grey",
           "width": 0.5
          },
          "showscale": false
         },
         "mode": "markers",
         "name": "Feasible Trial",
         "showlegend": false,
         "type": "scatter",
         "x": [
          27,
          6,
          4,
          27,
          4,
          14,
          17,
          17,
          30,
          14,
          6,
          1,
          8,
          7,
          7,
          27,
          11,
          28,
          27,
          20,
          25,
          25,
          2,
          17,
          29,
          25,
          3,
          9,
          19,
          24,
          21,
          30,
          13,
          28,
          7,
          18,
          15,
          18,
          22,
          14,
          4,
          8,
          15,
          18,
          8,
          15,
          6,
          16,
          25,
          3,
          7,
          14,
          24,
          19,
          8,
          21,
          29,
          32,
          11,
          27,
          7,
          4,
          11,
          4,
          7,
          12,
          2,
          25,
          9,
          15,
          16,
          6,
          24,
          3,
          9,
          19,
          9,
          6,
          4,
          25,
          29,
          3,
          19,
          6,
          23,
          14,
          22,
          15,
          6,
          3,
          9,
          17,
          25,
          26,
          31,
          31,
          7,
          9,
          7,
          7
         ],
         "xaxis": "x2",
         "y": [
          -9.499977667792638,
          -2.111051299838278,
          -4.97057486261202,
          -9.433956695991252,
          -1.8739839909079374,
          -5.2616705045482055,
          -9.452191375850632,
          -9.41071021606016,
          -9.455625438043285,
          -5.265939122180261,
          -2.569917273683265,
          -4.852066245345534,
          -8.645897130273354,
          -2.2020225911121245,
          -2.1816738956224313,
          -9.406872800949941,
          -5.064661186827197,
          -9.442805307963303,
          -9.45480373024704,
          -9.448145865978878,
          -9.44763638406998,
          -9.446676963061611,
          -2.8637930002220657,
          -9.433789509074241,
          -9.460776519366869,
          -9.480702222717431,
          -3.0653023415168437,
          -2.7730475343823757,
          -9.443529409169559,
          -9.460046548107002,
          -9.44560284945823,
          -9.504315388475485,
          -3.7609487805608013,
          -9.442795590437736,
          -2.2079800385295285,
          -9.509489980088173,
          -7.828178238963737,
          -9.437473983317325,
          -9.464014007679706,
          -5.15434438474342,
          -2.0932477058853527,
          -2.431827756297029,
          -7.931069515868418,
          -9.461018631900922,
          -3.286057065819152,
          -7.84524965480212,
          -2.1102538081031534,
          -9.129934351313329,
          -9.43571687475227,
          -2.0320871671425436,
          -2.22684474395854,
          -5.245320469043994,
          -9.449185795160128,
          -9.447841079999193,
          -3.944318854254541,
          -9.44958724651127,
          -9.454484614406109,
          -9.47892322449214,
          -3.0920861028535866,
          -9.446162513175043,
          -6.307351159511652,
          -1.9870765458130486,
          -3.13831577528899,
          -2.882284006496927,
          -2.209919705867743,
          -3.355220948875831,
          -1.4871245056629312,
          -9.440529976711337,
          -2.7660038298189122,
          -7.74599275753565,
          -9.176805005463422,
          -2.7352036300726104,
          -9.441081235235856,
          -2.1122787837203463,
          -2.7694773725663766,
          -9.449840001746367,
          -2.7701428380586854,
          -2.922594599918793,
          -1.8796931649153041,
          -9.416613375614272,
          -9.494410529231917,
          -3.3205344976309092,
          -9.458922962177597,
          -2.1058535420539575,
          -9.464567350211444,
          -5.188570972335706,
          -9.47066990409903,
          -7.831503617860525,
          -5.094329863865975,
          -2.9673489126902868,
          -2.94348746907817,
          -9.426692694730072,
          -9.432176940822185,
          -9.435967475185802,
          -9.44235579025651,
          -9.444166185560102,
          -2.8149364554156824,
          -2.7450499536525585,
          -2.7370157274473805,
          -2.2322391230891614
         ],
         "yaxis": "y2"
        },
        {
         "marker": {
          "color": [
           0,
           1,
           2,
           3,
           4,
           5,
           6,
           7,
           8,
           9,
           10,
           11,
           12,
           13,
           14,
           15,
           16,
           17,
           18,
           19,
           20,
           21,
           22,
           23,
           24,
           25,
           26,
           27,
           28,
           29,
           30,
           31,
           32,
           33,
           34,
           35,
           36,
           37,
           38,
           39,
           40,
           41,
           42,
           43,
           44,
           45,
           46,
           47,
           48,
           49,
           50,
           51,
           52,
           53,
           54,
           55,
           56,
           57,
           58,
           59,
           60,
           61,
           62,
           63,
           64,
           65,
           66,
           67,
           68,
           69,
           70,
           71,
           72,
           73,
           74,
           75,
           76,
           77,
           78,
           79,
           80,
           81,
           82,
           83,
           84,
           85,
           86,
           87,
           88,
           89,
           90,
           91,
           92,
           93,
           94,
           95,
           96,
           97,
           98,
           99
          ],
          "colorbar": {
           "title": {
            "text": "Trial"
           },
           "x": 1,
           "xpad": 40
          },
          "colorscale": [
           [
            0,
            "rgb(247,251,255)"
           ],
           [
            0.125,
            "rgb(222,235,247)"
           ],
           [
            0.25,
            "rgb(198,219,239)"
           ],
           [
            0.375,
            "rgb(158,202,225)"
           ],
           [
            0.5,
            "rgb(107,174,214)"
           ],
           [
            0.625,
            "rgb(66,146,198)"
           ],
           [
            0.75,
            "rgb(33,113,181)"
           ],
           [
            0.875,
            "rgb(8,81,156)"
           ],
           [
            1,
            "rgb(8,48,107)"
           ]
          ],
          "line": {
           "color": "Grey",
           "width": 0.5
          },
          "showscale": false
         },
         "mode": "markers",
         "name": "Feasible Trial",
         "showlegend": false,
         "type": "scatter",
         "x": [
          22,
          11,
          28,
          13,
          5,
          5,
          19,
          9,
          12,
          25,
          18,
          28,
          31,
          12,
          14,
          25,
          28,
          27,
          12,
          21,
          19,
          15,
          22,
          2,
          13,
          27,
          25,
          6,
          30,
          16,
          26,
          24,
          21,
          2,
          2,
          21,
          2,
          24,
          15,
          24,
          11,
          16,
          16,
          7,
          26,
          26,
          7,
          5,
          29,
          13,
          9,
          5,
          3,
          10,
          27,
          6,
          13,
          3,
          4,
          26,
          29,
          9,
          8,
          22,
          14,
          11,
          5,
          6,
          6,
          18,
          14,
          19,
          32,
          14,
          10,
          9,
          14,
          23,
          6,
          29,
          6,
          26,
          20,
          10,
          28,
          12,
          4,
          14,
          28,
          24,
          22,
          3,
          25,
          24,
          29,
          22,
          20,
          13,
          19,
          8
         ],
         "xaxis": "x3",
         "y": [
          -9.499977667792638,
          -2.111051299838278,
          -4.97057486261202,
          -9.433956695991252,
          -1.8739839909079374,
          -5.2616705045482055,
          -9.452191375850632,
          -9.41071021606016,
          -9.455625438043285,
          -5.265939122180261,
          -2.569917273683265,
          -4.852066245345534,
          -8.645897130273354,
          -2.2020225911121245,
          -2.1816738956224313,
          -9.406872800949941,
          -5.064661186827197,
          -9.442805307963303,
          -9.45480373024704,
          -9.448145865978878,
          -9.44763638406998,
          -9.446676963061611,
          -2.8637930002220657,
          -9.433789509074241,
          -9.460776519366869,
          -9.480702222717431,
          -3.0653023415168437,
          -2.7730475343823757,
          -9.443529409169559,
          -9.460046548107002,
          -9.44560284945823,
          -9.504315388475485,
          -3.7609487805608013,
          -9.442795590437736,
          -2.2079800385295285,
          -9.509489980088173,
          -7.828178238963737,
          -9.437473983317325,
          -9.464014007679706,
          -5.15434438474342,
          -2.0932477058853527,
          -2.431827756297029,
          -7.931069515868418,
          -9.461018631900922,
          -3.286057065819152,
          -7.84524965480212,
          -2.1102538081031534,
          -9.129934351313329,
          -9.43571687475227,
          -2.0320871671425436,
          -2.22684474395854,
          -5.245320469043994,
          -9.449185795160128,
          -9.447841079999193,
          -3.944318854254541,
          -9.44958724651127,
          -9.454484614406109,
          -9.47892322449214,
          -3.0920861028535866,
          -9.446162513175043,
          -6.307351159511652,
          -1.9870765458130486,
          -3.13831577528899,
          -2.882284006496927,
          -2.209919705867743,
          -3.355220948875831,
          -1.4871245056629312,
          -9.440529976711337,
          -2.7660038298189122,
          -7.74599275753565,
          -9.176805005463422,
          -2.7352036300726104,
          -9.441081235235856,
          -2.1122787837203463,
          -2.7694773725663766,
          -9.449840001746367,
          -2.7701428380586854,
          -2.922594599918793,
          -1.8796931649153041,
          -9.416613375614272,
          -9.494410529231917,
          -3.3205344976309092,
          -9.458922962177597,
          -2.1058535420539575,
          -9.464567350211444,
          -5.188570972335706,
          -9.47066990409903,
          -7.831503617860525,
          -5.094329863865975,
          -2.9673489126902868,
          -2.94348746907817,
          -9.426692694730072,
          -9.432176940822185,
          -9.435967475185802,
          -9.44235579025651,
          -9.444166185560102,
          -2.8149364554156824,
          -2.7450499536525585,
          -2.7370157274473805,
          -2.2322391230891614
         ],
         "yaxis": "y3"
        },
        {
         "marker": {
          "color": [
           0,
           1,
           2,
           3,
           4,
           5,
           6,
           7,
           8,
           9,
           10,
           11,
           12,
           13,
           14,
           15,
           16,
           17,
           18,
           19,
           20,
           21,
           22,
           23,
           24,
           25,
           26,
           27,
           28,
           29,
           30,
           31,
           32,
           33,
           34,
           35,
           36,
           37,
           38,
           39,
           40,
           41,
           42,
           43,
           44,
           45,
           46,
           47,
           48,
           49,
           50,
           51,
           52,
           53,
           54,
           55,
           56,
           57,
           58,
           59,
           60,
           61,
           62,
           63,
           64,
           65,
           66,
           67,
           68,
           69,
           70,
           71,
           72,
           73,
           74,
           75,
           76,
           77,
           78,
           79,
           80,
           81,
           82,
           83,
           84,
           85,
           86,
           87,
           88,
           89,
           90,
           91,
           92,
           93,
           94,
           95,
           96,
           97,
           98,
           99
          ],
          "colorbar": {
           "title": {
            "text": "Trial"
           },
           "x": 1,
           "xpad": 40
          },
          "colorscale": [
           [
            0,
            "rgb(247,251,255)"
           ],
           [
            0.125,
            "rgb(222,235,247)"
           ],
           [
            0.25,
            "rgb(198,219,239)"
           ],
           [
            0.375,
            "rgb(158,202,225)"
           ],
           [
            0.5,
            "rgb(107,174,214)"
           ],
           [
            0.625,
            "rgb(66,146,198)"
           ],
           [
            0.75,
            "rgb(33,113,181)"
           ],
           [
            0.875,
            "rgb(8,81,156)"
           ],
           [
            1,
            "rgb(8,48,107)"
           ]
          ],
          "line": {
           "color": "Grey",
           "width": 0.5
          },
          "showscale": false
         },
         "mode": "markers",
         "name": "Feasible Trial",
         "showlegend": false,
         "type": "scatter",
         "x": [
          722,
          409,
          757,
          958,
          176,
          895,
          347,
          442,
          439,
          345,
          525,
          201,
          655,
          943,
          359,
          342,
          845,
          738,
          611,
          583,
          922,
          367,
          502,
          554,
          513,
          544,
          755,
          764,
          482,
          633,
          374,
          258,
          971,
          497,
          379,
          272,
          300,
          537,
          642,
          233,
          100,
          877,
          294,
          167,
          270,
          540,
          972,
          214,
          659,
          170,
          481,
          534,
          950,
          685,
          656,
          631,
          366,
          674,
          103,
          638,
          789,
          941,
          769,
          816,
          816,
          470,
          923,
          670,
          874,
          950,
          832,
          619,
          300,
          264,
          291,
          809,
          356,
          148,
          195,
          870,
          399,
          862,
          209,
          345,
          384,
          491,
          163,
          714,
          935,
          192,
          681,
          766,
          309,
          597,
          455,
          612,
          662,
          877,
          148,
          223
         ],
         "xaxis": "x4",
         "y": [
          -9.499977667792638,
          -2.111051299838278,
          -4.97057486261202,
          -9.433956695991252,
          -1.8739839909079374,
          -5.2616705045482055,
          -9.452191375850632,
          -9.41071021606016,
          -9.455625438043285,
          -5.265939122180261,
          -2.569917273683265,
          -4.852066245345534,
          -8.645897130273354,
          -2.2020225911121245,
          -2.1816738956224313,
          -9.406872800949941,
          -5.064661186827197,
          -9.442805307963303,
          -9.45480373024704,
          -9.448145865978878,
          -9.44763638406998,
          -9.446676963061611,
          -2.8637930002220657,
          -9.433789509074241,
          -9.460776519366869,
          -9.480702222717431,
          -3.0653023415168437,
          -2.7730475343823757,
          -9.443529409169559,
          -9.460046548107002,
          -9.44560284945823,
          -9.504315388475485,
          -3.7609487805608013,
          -9.442795590437736,
          -2.2079800385295285,
          -9.509489980088173,
          -7.828178238963737,
          -9.437473983317325,
          -9.464014007679706,
          -5.15434438474342,
          -2.0932477058853527,
          -2.431827756297029,
          -7.931069515868418,
          -9.461018631900922,
          -3.286057065819152,
          -7.84524965480212,
          -2.1102538081031534,
          -9.129934351313329,
          -9.43571687475227,
          -2.0320871671425436,
          -2.22684474395854,
          -5.245320469043994,
          -9.449185795160128,
          -9.447841079999193,
          -3.944318854254541,
          -9.44958724651127,
          -9.454484614406109,
          -9.47892322449214,
          -3.0920861028535866,
          -9.446162513175043,
          -6.307351159511652,
          -1.9870765458130486,
          -3.13831577528899,
          -2.882284006496927,
          -2.209919705867743,
          -3.355220948875831,
          -1.4871245056629312,
          -9.440529976711337,
          -2.7660038298189122,
          -7.74599275753565,
          -9.176805005463422,
          -2.7352036300726104,
          -9.441081235235856,
          -2.1122787837203463,
          -2.7694773725663766,
          -9.449840001746367,
          -2.7701428380586854,
          -2.922594599918793,
          -1.8796931649153041,
          -9.416613375614272,
          -9.494410529231917,
          -3.3205344976309092,
          -9.458922962177597,
          -2.1058535420539575,
          -9.464567350211444,
          -5.188570972335706,
          -9.47066990409903,
          -7.831503617860525,
          -5.094329863865975,
          -2.9673489126902868,
          -2.94348746907817,
          -9.426692694730072,
          -9.432176940822185,
          -9.435967475185802,
          -9.44235579025651,
          -9.444166185560102,
          -2.8149364554156824,
          -2.7450499536525585,
          -2.7370157274473805,
          -2.2322391230891614
         ],
         "yaxis": "y4"
        }
       ],
       "layout": {
        "template": {
         "data": {
          "bar": [
           {
            "error_x": {
             "color": "#2a3f5f"
            },
            "error_y": {
             "color": "#2a3f5f"
            },
            "marker": {
             "line": {
              "color": "#E5ECF6",
              "width": 0.5
             },
             "pattern": {
              "fillmode": "overlay",
              "size": 10,
              "solidity": 0.2
             }
            },
            "type": "bar"
           }
          ],
          "barpolar": [
           {
            "marker": {
             "line": {
              "color": "#E5ECF6",
              "width": 0.5
             },
             "pattern": {
              "fillmode": "overlay",
              "size": 10,
              "solidity": 0.2
             }
            },
            "type": "barpolar"
           }
          ],
          "carpet": [
           {
            "aaxis": {
             "endlinecolor": "#2a3f5f",
             "gridcolor": "white",
             "linecolor": "white",
             "minorgridcolor": "white",
             "startlinecolor": "#2a3f5f"
            },
            "baxis": {
             "endlinecolor": "#2a3f5f",
             "gridcolor": "white",
             "linecolor": "white",
             "minorgridcolor": "white",
             "startlinecolor": "#2a3f5f"
            },
            "type": "carpet"
           }
          ],
          "choropleth": [
           {
            "colorbar": {
             "outlinewidth": 0,
             "ticks": ""
            },
            "type": "choropleth"
           }
          ],
          "contour": [
           {
            "colorbar": {
             "outlinewidth": 0,
             "ticks": ""
            },
            "colorscale": [
             [
              0,
              "#0d0887"
             ],
             [
              0.1111111111111111,
              "#46039f"
             ],
             [
              0.2222222222222222,
              "#7201a8"
             ],
             [
              0.3333333333333333,
              "#9c179e"
             ],
             [
              0.4444444444444444,
              "#bd3786"
             ],
             [
              0.5555555555555556,
              "#d8576b"
             ],
             [
              0.6666666666666666,
              "#ed7953"
             ],
             [
              0.7777777777777778,
              "#fb9f3a"
             ],
             [
              0.8888888888888888,
              "#fdca26"
             ],
             [
              1,
              "#f0f921"
             ]
            ],
            "type": "contour"
           }
          ],
          "contourcarpet": [
           {
            "colorbar": {
             "outlinewidth": 0,
             "ticks": ""
            },
            "type": "contourcarpet"
           }
          ],
          "heatmap": [
           {
            "colorbar": {
             "outlinewidth": 0,
             "ticks": ""
            },
            "colorscale": [
             [
              0,
              "#0d0887"
             ],
             [
              0.1111111111111111,
              "#46039f"
             ],
             [
              0.2222222222222222,
              "#7201a8"
             ],
             [
              0.3333333333333333,
              "#9c179e"
             ],
             [
              0.4444444444444444,
              "#bd3786"
             ],
             [
              0.5555555555555556,
              "#d8576b"
             ],
             [
              0.6666666666666666,
              "#ed7953"
             ],
             [
              0.7777777777777778,
              "#fb9f3a"
             ],
             [
              0.8888888888888888,
              "#fdca26"
             ],
             [
              1,
              "#f0f921"
             ]
            ],
            "type": "heatmap"
           }
          ],
          "heatmapgl": [
           {
            "colorbar": {
             "outlinewidth": 0,
             "ticks": ""
            },
            "colorscale": [
             [
              0,
              "#0d0887"
             ],
             [
              0.1111111111111111,
              "#46039f"
             ],
             [
              0.2222222222222222,
              "#7201a8"
             ],
             [
              0.3333333333333333,
              "#9c179e"
             ],
             [
              0.4444444444444444,
              "#bd3786"
             ],
             [
              0.5555555555555556,
              "#d8576b"
             ],
             [
              0.6666666666666666,
              "#ed7953"
             ],
             [
              0.7777777777777778,
              "#fb9f3a"
             ],
             [
              0.8888888888888888,
              "#fdca26"
             ],
             [
              1,
              "#f0f921"
             ]
            ],
            "type": "heatmapgl"
           }
          ],
          "histogram": [
           {
            "marker": {
             "pattern": {
              "fillmode": "overlay",
              "size": 10,
              "solidity": 0.2
             }
            },
            "type": "histogram"
           }
          ],
          "histogram2d": [
           {
            "colorbar": {
             "outlinewidth": 0,
             "ticks": ""
            },
            "colorscale": [
             [
              0,
              "#0d0887"
             ],
             [
              0.1111111111111111,
              "#46039f"
             ],
             [
              0.2222222222222222,
              "#7201a8"
             ],
             [
              0.3333333333333333,
              "#9c179e"
             ],
             [
              0.4444444444444444,
              "#bd3786"
             ],
             [
              0.5555555555555556,
              "#d8576b"
             ],
             [
              0.6666666666666666,
              "#ed7953"
             ],
             [
              0.7777777777777778,
              "#fb9f3a"
             ],
             [
              0.8888888888888888,
              "#fdca26"
             ],
             [
              1,
              "#f0f921"
             ]
            ],
            "type": "histogram2d"
           }
          ],
          "histogram2dcontour": [
           {
            "colorbar": {
             "outlinewidth": 0,
             "ticks": ""
            },
            "colorscale": [
             [
              0,
              "#0d0887"
             ],
             [
              0.1111111111111111,
              "#46039f"
             ],
             [
              0.2222222222222222,
              "#7201a8"
             ],
             [
              0.3333333333333333,
              "#9c179e"
             ],
             [
              0.4444444444444444,
              "#bd3786"
             ],
             [
              0.5555555555555556,
              "#d8576b"
             ],
             [
              0.6666666666666666,
              "#ed7953"
             ],
             [
              0.7777777777777778,
              "#fb9f3a"
             ],
             [
              0.8888888888888888,
              "#fdca26"
             ],
             [
              1,
              "#f0f921"
             ]
            ],
            "type": "histogram2dcontour"
           }
          ],
          "mesh3d": [
           {
            "colorbar": {
             "outlinewidth": 0,
             "ticks": ""
            },
            "type": "mesh3d"
           }
          ],
          "parcoords": [
           {
            "line": {
             "colorbar": {
              "outlinewidth": 0,
              "ticks": ""
             }
            },
            "type": "parcoords"
           }
          ],
          "pie": [
           {
            "automargin": true,
            "type": "pie"
           }
          ],
          "scatter": [
           {
            "fillpattern": {
             "fillmode": "overlay",
             "size": 10,
             "solidity": 0.2
            },
            "type": "scatter"
           }
          ],
          "scatter3d": [
           {
            "line": {
             "colorbar": {
              "outlinewidth": 0,
              "ticks": ""
             }
            },
            "marker": {
             "colorbar": {
              "outlinewidth": 0,
              "ticks": ""
             }
            },
            "type": "scatter3d"
           }
          ],
          "scattercarpet": [
           {
            "marker": {
             "colorbar": {
              "outlinewidth": 0,
              "ticks": ""
             }
            },
            "type": "scattercarpet"
           }
          ],
          "scattergeo": [
           {
            "marker": {
             "colorbar": {
              "outlinewidth": 0,
              "ticks": ""
             }
            },
            "type": "scattergeo"
           }
          ],
          "scattergl": [
           {
            "marker": {
             "colorbar": {
              "outlinewidth": 0,
              "ticks": ""
             }
            },
            "type": "scattergl"
           }
          ],
          "scattermapbox": [
           {
            "marker": {
             "colorbar": {
              "outlinewidth": 0,
              "ticks": ""
             }
            },
            "type": "scattermapbox"
           }
          ],
          "scatterpolar": [
           {
            "marker": {
             "colorbar": {
              "outlinewidth": 0,
              "ticks": ""
             }
            },
            "type": "scatterpolar"
           }
          ],
          "scatterpolargl": [
           {
            "marker": {
             "colorbar": {
              "outlinewidth": 0,
              "ticks": ""
             }
            },
            "type": "scatterpolargl"
           }
          ],
          "scatterternary": [
           {
            "marker": {
             "colorbar": {
              "outlinewidth": 0,
              "ticks": ""
             }
            },
            "type": "scatterternary"
           }
          ],
          "surface": [
           {
            "colorbar": {
             "outlinewidth": 0,
             "ticks": ""
            },
            "colorscale": [
             [
              0,
              "#0d0887"
             ],
             [
              0.1111111111111111,
              "#46039f"
             ],
             [
              0.2222222222222222,
              "#7201a8"
             ],
             [
              0.3333333333333333,
              "#9c179e"
             ],
             [
              0.4444444444444444,
              "#bd3786"
             ],
             [
              0.5555555555555556,
              "#d8576b"
             ],
             [
              0.6666666666666666,
              "#ed7953"
             ],
             [
              0.7777777777777778,
              "#fb9f3a"
             ],
             [
              0.8888888888888888,
              "#fdca26"
             ],
             [
              1,
              "#f0f921"
             ]
            ],
            "type": "surface"
           }
          ],
          "table": [
           {
            "cells": {
             "fill": {
              "color": "#EBF0F8"
             },
             "line": {
              "color": "white"
             }
            },
            "header": {
             "fill": {
              "color": "#C8D4E3"
             },
             "line": {
              "color": "white"
             }
            },
            "type": "table"
           }
          ]
         },
         "layout": {
          "annotationdefaults": {
           "arrowcolor": "#2a3f5f",
           "arrowhead": 0,
           "arrowwidth": 1
          },
          "autotypenumbers": "strict",
          "coloraxis": {
           "colorbar": {
            "outlinewidth": 0,
            "ticks": ""
           }
          },
          "colorscale": {
           "diverging": [
            [
             0,
             "#8e0152"
            ],
            [
             0.1,
             "#c51b7d"
            ],
            [
             0.2,
             "#de77ae"
            ],
            [
             0.3,
             "#f1b6da"
            ],
            [
             0.4,
             "#fde0ef"
            ],
            [
             0.5,
             "#f7f7f7"
            ],
            [
             0.6,
             "#e6f5d0"
            ],
            [
             0.7,
             "#b8e186"
            ],
            [
             0.8,
             "#7fbc41"
            ],
            [
             0.9,
             "#4d9221"
            ],
            [
             1,
             "#276419"
            ]
           ],
           "sequential": [
            [
             0,
             "#0d0887"
            ],
            [
             0.1111111111111111,
             "#46039f"
            ],
            [
             0.2222222222222222,
             "#7201a8"
            ],
            [
             0.3333333333333333,
             "#9c179e"
            ],
            [
             0.4444444444444444,
             "#bd3786"
            ],
            [
             0.5555555555555556,
             "#d8576b"
            ],
            [
             0.6666666666666666,
             "#ed7953"
            ],
            [
             0.7777777777777778,
             "#fb9f3a"
            ],
            [
             0.8888888888888888,
             "#fdca26"
            ],
            [
             1,
             "#f0f921"
            ]
           ],
           "sequentialminus": [
            [
             0,
             "#0d0887"
            ],
            [
             0.1111111111111111,
             "#46039f"
            ],
            [
             0.2222222222222222,
             "#7201a8"
            ],
            [
             0.3333333333333333,
             "#9c179e"
            ],
            [
             0.4444444444444444,
             "#bd3786"
            ],
            [
             0.5555555555555556,
             "#d8576b"
            ],
            [
             0.6666666666666666,
             "#ed7953"
            ],
            [
             0.7777777777777778,
             "#fb9f3a"
            ],
            [
             0.8888888888888888,
             "#fdca26"
            ],
            [
             1,
             "#f0f921"
            ]
           ]
          },
          "colorway": [
           "#636efa",
           "#EF553B",
           "#00cc96",
           "#ab63fa",
           "#FFA15A",
           "#19d3f3",
           "#FF6692",
           "#B6E880",
           "#FF97FF",
           "#FECB52"
          ],
          "font": {
           "color": "#2a3f5f"
          },
          "geo": {
           "bgcolor": "white",
           "lakecolor": "white",
           "landcolor": "#E5ECF6",
           "showlakes": true,
           "showland": true,
           "subunitcolor": "white"
          },
          "hoverlabel": {
           "align": "left"
          },
          "hovermode": "closest",
          "mapbox": {
           "style": "light"
          },
          "paper_bgcolor": "white",
          "plot_bgcolor": "#E5ECF6",
          "polar": {
           "angularaxis": {
            "gridcolor": "white",
            "linecolor": "white",
            "ticks": ""
           },
           "bgcolor": "#E5ECF6",
           "radialaxis": {
            "gridcolor": "white",
            "linecolor": "white",
            "ticks": ""
           }
          },
          "scene": {
           "xaxis": {
            "backgroundcolor": "#E5ECF6",
            "gridcolor": "white",
            "gridwidth": 2,
            "linecolor": "white",
            "showbackground": true,
            "ticks": "",
            "zerolinecolor": "white"
           },
           "yaxis": {
            "backgroundcolor": "#E5ECF6",
            "gridcolor": "white",
            "gridwidth": 2,
            "linecolor": "white",
            "showbackground": true,
            "ticks": "",
            "zerolinecolor": "white"
           },
           "zaxis": {
            "backgroundcolor": "#E5ECF6",
            "gridcolor": "white",
            "gridwidth": 2,
            "linecolor": "white",
            "showbackground": true,
            "ticks": "",
            "zerolinecolor": "white"
           }
          },
          "shapedefaults": {
           "line": {
            "color": "#2a3f5f"
           }
          },
          "ternary": {
           "aaxis": {
            "gridcolor": "white",
            "linecolor": "white",
            "ticks": ""
           },
           "baxis": {
            "gridcolor": "white",
            "linecolor": "white",
            "ticks": ""
           },
           "bgcolor": "#E5ECF6",
           "caxis": {
            "gridcolor": "white",
            "linecolor": "white",
            "ticks": ""
           }
          },
          "title": {
           "x": 0.05
          },
          "xaxis": {
           "automargin": true,
           "gridcolor": "white",
           "linecolor": "white",
           "ticks": "",
           "title": {
            "standoff": 15
           },
           "zerolinecolor": "white",
           "zerolinewidth": 2
          },
          "yaxis": {
           "automargin": true,
           "gridcolor": "white",
           "linecolor": "white",
           "ticks": "",
           "title": {
            "standoff": 15
           },
           "zerolinecolor": "white",
           "zerolinewidth": 2
          }
         }
        },
        "title": {
         "text": "Slice Plot"
        },
        "width": 1200,
        "xaxis": {
         "anchor": "y",
         "domain": [
          0,
          0.2125
         ],
         "title": {
          "text": "max_depth"
         }
        },
        "xaxis2": {
         "anchor": "y2",
         "domain": [
          0.2625,
          0.475
         ],
         "title": {
          "text": "min_sample_leaf"
         }
        },
        "xaxis3": {
         "anchor": "y3",
         "domain": [
          0.525,
          0.7375
         ],
         "title": {
          "text": "min_sample_split"
         }
        },
        "xaxis4": {
         "anchor": "y4",
         "domain": [
          0.7875,
          1
         ],
         "title": {
          "text": "n_estimators"
         }
        },
        "yaxis": {
         "anchor": "x",
         "domain": [
          0,
          1
         ],
         "title": {
          "text": "Objective Value"
         }
        },
        "yaxis2": {
         "anchor": "x2",
         "domain": [
          0,
          1
         ],
         "matches": "y",
         "showticklabels": false
        },
        "yaxis3": {
         "anchor": "x3",
         "domain": [
          0,
          1
         ],
         "matches": "y",
         "showticklabels": false
        },
        "yaxis4": {
         "anchor": "x4",
         "domain": [
          0,
          1
         ],
         "matches": "y",
         "showticklabels": false
        }
       }
      }
     },
     "metadata": {},
     "output_type": "display_data"
    }
   ],
   "source": [
    "optuna.visualization.plot_slice(study=study, params=['n_estimators', 'max_depth', 'min_sample_split', 'min_sample_leaf'])\n",
    "\n"
   ]
  },
  {
   "cell_type": "code",
   "execution_count": 17,
   "metadata": {},
   "outputs": [
    {
     "data": {
      "application/vnd.plotly.v1+json": {
       "config": {
        "plotlyServerURL": "https://plot.ly"
       },
       "data": [
        {
         "cliponaxis": false,
         "hovertemplate": [
          "max_depth (IntDistribution): 0.00033220589992056767<extra></extra>",
          "n_estimators (IntDistribution): 0.00033592539979649023<extra></extra>",
          "min_sample_split (IntDistribution): 0.03756085377898805<extra></extra>",
          "min_sample_leaf (IntDistribution): 0.9617710149212947<extra></extra>"
         ],
         "name": "Objective Value",
         "orientation": "h",
         "text": [
          "<0.01",
          "<0.01",
          "0.04",
          "0.96"
         ],
         "textposition": "outside",
         "type": "bar",
         "x": [
          0.00033220589992056767,
          0.00033592539979649023,
          0.03756085377898805,
          0.9617710149212947
         ],
         "y": [
          "max_depth",
          "n_estimators",
          "min_sample_split",
          "min_sample_leaf"
         ]
        }
       ],
       "layout": {
        "template": {
         "data": {
          "bar": [
           {
            "error_x": {
             "color": "#2a3f5f"
            },
            "error_y": {
             "color": "#2a3f5f"
            },
            "marker": {
             "line": {
              "color": "#E5ECF6",
              "width": 0.5
             },
             "pattern": {
              "fillmode": "overlay",
              "size": 10,
              "solidity": 0.2
             }
            },
            "type": "bar"
           }
          ],
          "barpolar": [
           {
            "marker": {
             "line": {
              "color": "#E5ECF6",
              "width": 0.5
             },
             "pattern": {
              "fillmode": "overlay",
              "size": 10,
              "solidity": 0.2
             }
            },
            "type": "barpolar"
           }
          ],
          "carpet": [
           {
            "aaxis": {
             "endlinecolor": "#2a3f5f",
             "gridcolor": "white",
             "linecolor": "white",
             "minorgridcolor": "white",
             "startlinecolor": "#2a3f5f"
            },
            "baxis": {
             "endlinecolor": "#2a3f5f",
             "gridcolor": "white",
             "linecolor": "white",
             "minorgridcolor": "white",
             "startlinecolor": "#2a3f5f"
            },
            "type": "carpet"
           }
          ],
          "choropleth": [
           {
            "colorbar": {
             "outlinewidth": 0,
             "ticks": ""
            },
            "type": "choropleth"
           }
          ],
          "contour": [
           {
            "colorbar": {
             "outlinewidth": 0,
             "ticks": ""
            },
            "colorscale": [
             [
              0,
              "#0d0887"
             ],
             [
              0.1111111111111111,
              "#46039f"
             ],
             [
              0.2222222222222222,
              "#7201a8"
             ],
             [
              0.3333333333333333,
              "#9c179e"
             ],
             [
              0.4444444444444444,
              "#bd3786"
             ],
             [
              0.5555555555555556,
              "#d8576b"
             ],
             [
              0.6666666666666666,
              "#ed7953"
             ],
             [
              0.7777777777777778,
              "#fb9f3a"
             ],
             [
              0.8888888888888888,
              "#fdca26"
             ],
             [
              1,
              "#f0f921"
             ]
            ],
            "type": "contour"
           }
          ],
          "contourcarpet": [
           {
            "colorbar": {
             "outlinewidth": 0,
             "ticks": ""
            },
            "type": "contourcarpet"
           }
          ],
          "heatmap": [
           {
            "colorbar": {
             "outlinewidth": 0,
             "ticks": ""
            },
            "colorscale": [
             [
              0,
              "#0d0887"
             ],
             [
              0.1111111111111111,
              "#46039f"
             ],
             [
              0.2222222222222222,
              "#7201a8"
             ],
             [
              0.3333333333333333,
              "#9c179e"
             ],
             [
              0.4444444444444444,
              "#bd3786"
             ],
             [
              0.5555555555555556,
              "#d8576b"
             ],
             [
              0.6666666666666666,
              "#ed7953"
             ],
             [
              0.7777777777777778,
              "#fb9f3a"
             ],
             [
              0.8888888888888888,
              "#fdca26"
             ],
             [
              1,
              "#f0f921"
             ]
            ],
            "type": "heatmap"
           }
          ],
          "heatmapgl": [
           {
            "colorbar": {
             "outlinewidth": 0,
             "ticks": ""
            },
            "colorscale": [
             [
              0,
              "#0d0887"
             ],
             [
              0.1111111111111111,
              "#46039f"
             ],
             [
              0.2222222222222222,
              "#7201a8"
             ],
             [
              0.3333333333333333,
              "#9c179e"
             ],
             [
              0.4444444444444444,
              "#bd3786"
             ],
             [
              0.5555555555555556,
              "#d8576b"
             ],
             [
              0.6666666666666666,
              "#ed7953"
             ],
             [
              0.7777777777777778,
              "#fb9f3a"
             ],
             [
              0.8888888888888888,
              "#fdca26"
             ],
             [
              1,
              "#f0f921"
             ]
            ],
            "type": "heatmapgl"
           }
          ],
          "histogram": [
           {
            "marker": {
             "pattern": {
              "fillmode": "overlay",
              "size": 10,
              "solidity": 0.2
             }
            },
            "type": "histogram"
           }
          ],
          "histogram2d": [
           {
            "colorbar": {
             "outlinewidth": 0,
             "ticks": ""
            },
            "colorscale": [
             [
              0,
              "#0d0887"
             ],
             [
              0.1111111111111111,
              "#46039f"
             ],
             [
              0.2222222222222222,
              "#7201a8"
             ],
             [
              0.3333333333333333,
              "#9c179e"
             ],
             [
              0.4444444444444444,
              "#bd3786"
             ],
             [
              0.5555555555555556,
              "#d8576b"
             ],
             [
              0.6666666666666666,
              "#ed7953"
             ],
             [
              0.7777777777777778,
              "#fb9f3a"
             ],
             [
              0.8888888888888888,
              "#fdca26"
             ],
             [
              1,
              "#f0f921"
             ]
            ],
            "type": "histogram2d"
           }
          ],
          "histogram2dcontour": [
           {
            "colorbar": {
             "outlinewidth": 0,
             "ticks": ""
            },
            "colorscale": [
             [
              0,
              "#0d0887"
             ],
             [
              0.1111111111111111,
              "#46039f"
             ],
             [
              0.2222222222222222,
              "#7201a8"
             ],
             [
              0.3333333333333333,
              "#9c179e"
             ],
             [
              0.4444444444444444,
              "#bd3786"
             ],
             [
              0.5555555555555556,
              "#d8576b"
             ],
             [
              0.6666666666666666,
              "#ed7953"
             ],
             [
              0.7777777777777778,
              "#fb9f3a"
             ],
             [
              0.8888888888888888,
              "#fdca26"
             ],
             [
              1,
              "#f0f921"
             ]
            ],
            "type": "histogram2dcontour"
           }
          ],
          "mesh3d": [
           {
            "colorbar": {
             "outlinewidth": 0,
             "ticks": ""
            },
            "type": "mesh3d"
           }
          ],
          "parcoords": [
           {
            "line": {
             "colorbar": {
              "outlinewidth": 0,
              "ticks": ""
             }
            },
            "type": "parcoords"
           }
          ],
          "pie": [
           {
            "automargin": true,
            "type": "pie"
           }
          ],
          "scatter": [
           {
            "fillpattern": {
             "fillmode": "overlay",
             "size": 10,
             "solidity": 0.2
            },
            "type": "scatter"
           }
          ],
          "scatter3d": [
           {
            "line": {
             "colorbar": {
              "outlinewidth": 0,
              "ticks": ""
             }
            },
            "marker": {
             "colorbar": {
              "outlinewidth": 0,
              "ticks": ""
             }
            },
            "type": "scatter3d"
           }
          ],
          "scattercarpet": [
           {
            "marker": {
             "colorbar": {
              "outlinewidth": 0,
              "ticks": ""
             }
            },
            "type": "scattercarpet"
           }
          ],
          "scattergeo": [
           {
            "marker": {
             "colorbar": {
              "outlinewidth": 0,
              "ticks": ""
             }
            },
            "type": "scattergeo"
           }
          ],
          "scattergl": [
           {
            "marker": {
             "colorbar": {
              "outlinewidth": 0,
              "ticks": ""
             }
            },
            "type": "scattergl"
           }
          ],
          "scattermapbox": [
           {
            "marker": {
             "colorbar": {
              "outlinewidth": 0,
              "ticks": ""
             }
            },
            "type": "scattermapbox"
           }
          ],
          "scatterpolar": [
           {
            "marker": {
             "colorbar": {
              "outlinewidth": 0,
              "ticks": ""
             }
            },
            "type": "scatterpolar"
           }
          ],
          "scatterpolargl": [
           {
            "marker": {
             "colorbar": {
              "outlinewidth": 0,
              "ticks": ""
             }
            },
            "type": "scatterpolargl"
           }
          ],
          "scatterternary": [
           {
            "marker": {
             "colorbar": {
              "outlinewidth": 0,
              "ticks": ""
             }
            },
            "type": "scatterternary"
           }
          ],
          "surface": [
           {
            "colorbar": {
             "outlinewidth": 0,
             "ticks": ""
            },
            "colorscale": [
             [
              0,
              "#0d0887"
             ],
             [
              0.1111111111111111,
              "#46039f"
             ],
             [
              0.2222222222222222,
              "#7201a8"
             ],
             [
              0.3333333333333333,
              "#9c179e"
             ],
             [
              0.4444444444444444,
              "#bd3786"
             ],
             [
              0.5555555555555556,
              "#d8576b"
             ],
             [
              0.6666666666666666,
              "#ed7953"
             ],
             [
              0.7777777777777778,
              "#fb9f3a"
             ],
             [
              0.8888888888888888,
              "#fdca26"
             ],
             [
              1,
              "#f0f921"
             ]
            ],
            "type": "surface"
           }
          ],
          "table": [
           {
            "cells": {
             "fill": {
              "color": "#EBF0F8"
             },
             "line": {
              "color": "white"
             }
            },
            "header": {
             "fill": {
              "color": "#C8D4E3"
             },
             "line": {
              "color": "white"
             }
            },
            "type": "table"
           }
          ]
         },
         "layout": {
          "annotationdefaults": {
           "arrowcolor": "#2a3f5f",
           "arrowhead": 0,
           "arrowwidth": 1
          },
          "autotypenumbers": "strict",
          "coloraxis": {
           "colorbar": {
            "outlinewidth": 0,
            "ticks": ""
           }
          },
          "colorscale": {
           "diverging": [
            [
             0,
             "#8e0152"
            ],
            [
             0.1,
             "#c51b7d"
            ],
            [
             0.2,
             "#de77ae"
            ],
            [
             0.3,
             "#f1b6da"
            ],
            [
             0.4,
             "#fde0ef"
            ],
            [
             0.5,
             "#f7f7f7"
            ],
            [
             0.6,
             "#e6f5d0"
            ],
            [
             0.7,
             "#b8e186"
            ],
            [
             0.8,
             "#7fbc41"
            ],
            [
             0.9,
             "#4d9221"
            ],
            [
             1,
             "#276419"
            ]
           ],
           "sequential": [
            [
             0,
             "#0d0887"
            ],
            [
             0.1111111111111111,
             "#46039f"
            ],
            [
             0.2222222222222222,
             "#7201a8"
            ],
            [
             0.3333333333333333,
             "#9c179e"
            ],
            [
             0.4444444444444444,
             "#bd3786"
            ],
            [
             0.5555555555555556,
             "#d8576b"
            ],
            [
             0.6666666666666666,
             "#ed7953"
            ],
            [
             0.7777777777777778,
             "#fb9f3a"
            ],
            [
             0.8888888888888888,
             "#fdca26"
            ],
            [
             1,
             "#f0f921"
            ]
           ],
           "sequentialminus": [
            [
             0,
             "#0d0887"
            ],
            [
             0.1111111111111111,
             "#46039f"
            ],
            [
             0.2222222222222222,
             "#7201a8"
            ],
            [
             0.3333333333333333,
             "#9c179e"
            ],
            [
             0.4444444444444444,
             "#bd3786"
            ],
            [
             0.5555555555555556,
             "#d8576b"
            ],
            [
             0.6666666666666666,
             "#ed7953"
            ],
            [
             0.7777777777777778,
             "#fb9f3a"
            ],
            [
             0.8888888888888888,
             "#fdca26"
            ],
            [
             1,
             "#f0f921"
            ]
           ]
          },
          "colorway": [
           "#636efa",
           "#EF553B",
           "#00cc96",
           "#ab63fa",
           "#FFA15A",
           "#19d3f3",
           "#FF6692",
           "#B6E880",
           "#FF97FF",
           "#FECB52"
          ],
          "font": {
           "color": "#2a3f5f"
          },
          "geo": {
           "bgcolor": "white",
           "lakecolor": "white",
           "landcolor": "#E5ECF6",
           "showlakes": true,
           "showland": true,
           "subunitcolor": "white"
          },
          "hoverlabel": {
           "align": "left"
          },
          "hovermode": "closest",
          "mapbox": {
           "style": "light"
          },
          "paper_bgcolor": "white",
          "plot_bgcolor": "#E5ECF6",
          "polar": {
           "angularaxis": {
            "gridcolor": "white",
            "linecolor": "white",
            "ticks": ""
           },
           "bgcolor": "#E5ECF6",
           "radialaxis": {
            "gridcolor": "white",
            "linecolor": "white",
            "ticks": ""
           }
          },
          "scene": {
           "xaxis": {
            "backgroundcolor": "#E5ECF6",
            "gridcolor": "white",
            "gridwidth": 2,
            "linecolor": "white",
            "showbackground": true,
            "ticks": "",
            "zerolinecolor": "white"
           },
           "yaxis": {
            "backgroundcolor": "#E5ECF6",
            "gridcolor": "white",
            "gridwidth": 2,
            "linecolor": "white",
            "showbackground": true,
            "ticks": "",
            "zerolinecolor": "white"
           },
           "zaxis": {
            "backgroundcolor": "#E5ECF6",
            "gridcolor": "white",
            "gridwidth": 2,
            "linecolor": "white",
            "showbackground": true,
            "ticks": "",
            "zerolinecolor": "white"
           }
          },
          "shapedefaults": {
           "line": {
            "color": "#2a3f5f"
           }
          },
          "ternary": {
           "aaxis": {
            "gridcolor": "white",
            "linecolor": "white",
            "ticks": ""
           },
           "baxis": {
            "gridcolor": "white",
            "linecolor": "white",
            "ticks": ""
           },
           "bgcolor": "#E5ECF6",
           "caxis": {
            "gridcolor": "white",
            "linecolor": "white",
            "ticks": ""
           }
          },
          "title": {
           "x": 0.05
          },
          "xaxis": {
           "automargin": true,
           "gridcolor": "white",
           "linecolor": "white",
           "ticks": "",
           "title": {
            "standoff": 15
           },
           "zerolinecolor": "white",
           "zerolinewidth": 2
          },
          "yaxis": {
           "automargin": true,
           "gridcolor": "white",
           "linecolor": "white",
           "ticks": "",
           "title": {
            "standoff": 15
           },
           "zerolinecolor": "white",
           "zerolinewidth": 2
          }
         }
        },
        "title": {
         "text": "Hyperparameter Importances"
        },
        "xaxis": {
         "title": {
          "text": "Hyperparameter Importance"
         }
        },
        "yaxis": {
         "title": {
          "text": "Hyperparameter"
         }
        }
       }
      }
     },
     "metadata": {},
     "output_type": "display_data"
    }
   ],
   "source": [
    "optuna.visualization.plot_param_importances(study=study)"
   ]
  },
  {
   "cell_type": "code",
   "execution_count": 23,
   "metadata": {},
   "outputs": [
    {
     "name": "stdout",
     "output_type": "stream",
     "text": [
      "mean_absolute_error : 0.7211863636363536\n",
      "mean_squared_error : 0.9606070863636212\n",
      "r2_score : 0.9136726372978682\n"
     ]
    }
   ],
   "source": [
    "# Finally train the best model again.\n",
    "# Get the best parameters\n",
    "best_params = study.best_params\n",
    "# print(best_params)\n",
    "\n",
    "best_model = RandomForestRegressor(n_estimators=best_params['n_estimators'],\n",
    "                                   max_depth=best_params['max_depth'],\n",
    "                                   min_samples_split=best_params['min_sample_split'],\n",
    "                                   min_samples_leaf=best_params['min_sample_leaf'])\n",
    "\n",
    "best_model.fit(X=X_train, y=y_train)\n",
    "\n",
    "y_pred = best_model.predict(X=X_test)\n",
    "\n",
    "print(f'mean_absolute_error : {mae}\\nmean_squared_error : {mse}\\nr2_score : {r2s}')"
   ]
  },
  {
   "cell_type": "code",
   "execution_count": 21,
   "metadata": {},
   "outputs": [
    {
     "data": {
      "text/plain": [
       "923"
      ]
     },
     "execution_count": 21,
     "metadata": {},
     "output_type": "execute_result"
    }
   ],
   "source": [
    "best_params['n_estimators']"
   ]
  },
  {
   "cell_type": "markdown",
   "metadata": {},
   "source": [
    "#### Resources\n",
    "\n",
    "1. [sklearn - model evaluation and scoring](https://scikit-learn.org/stable/modules/model_evaluation.html#scoring-parameter)\n",
    "2. [Optuna - trial.suggest_int](https://optuna.readthedocs.io/en/stable/reference/generated/optuna.trial.Trial.html)\n",
    "3. [Optuna - create_study](https://optuna.readthedocs.io/en/stable/reference/generated/optuna.study.create_study.html#optuna.study.create_study)\n",
    "4. [Optuna - visualization](https://optuna.readthedocs.io/en/stable/reference/visualization/index.html)"
   ]
  }
 ],
 "metadata": {
  "kernelspec": {
   "display_name": "env_rnd",
   "language": "python",
   "name": "python3"
  },
  "language_info": {
   "codemirror_mode": {
    "name": "ipython",
    "version": 3
   },
   "file_extension": ".py",
   "mimetype": "text/x-python",
   "name": "python",
   "nbconvert_exporter": "python",
   "pygments_lexer": "ipython3",
   "version": "3.10.14"
  }
 },
 "nbformat": 4,
 "nbformat_minor": 2
}
